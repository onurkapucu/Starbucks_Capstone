{
 "cells": [
  {
   "cell_type": "markdown",
   "metadata": {},
   "source": [
    "# Starbucks Capstone Challenge\n",
    "\n",
    "### Introduction\n",
    "\n",
    "This data set contains simulated data that mimics customer behavior on the Starbucks rewards mobile app. Once every few days, Starbucks sends out an offer to users of the mobile app. An offer can be merely an advertisement for a drink or an actual offer such as a discount or BOGO (buy one get one free). Some users might not receive any offer during certain weeks. \n",
    "\n",
    "Not all users receive the same offer, and that is the challenge to solve with this data set.\n",
    "\n",
    "Your task is to combine transaction, demographic and offer data to determine which demographic groups respond best to which offer type. This data set is a simplified version of the real Starbucks app because the underlying simulator only has one product whereas Starbucks actually sells dozens of products.\n",
    "\n",
    "Every offer has a validity period before the offer expires. As an example, a BOGO offer might be valid for only 5 days. You'll see in the data set that informational offers have a validity period even though these ads are merely providing information about a product; for example, if an informational offer has 7 days of validity, you can assume the customer is feeling the influence of the offer for 7 days after receiving the advertisement.\n",
    "\n",
    "You'll be given transactional data showing user purchases made on the app including the timestamp of purchase and the amount of money spent on a purchase. This transactional data also has a record for each offer that a user receives as well as a record for when a user actually views the offer. There are also records for when a user completes an offer. \n",
    "\n",
    "Keep in mind as well that someone using the app might make a purchase through the app without having received an offer or seen an offer.\n",
    "\n",
    "### Example\n",
    "\n",
    "To give an example, a user could receive a discount offer buy 10 dollars get 2 off on Monday. The offer is valid for 10 days from receipt. If the customer accumulates at least 10 dollars in purchases during the validity period, the customer completes the offer.\n",
    "\n",
    "However, there are a few things to watch out for in this data set. Customers do not opt into the offers that they receive; in other words, a user can receive an offer, never actually view the offer, and still complete the offer. For example, a user might receive the \"buy 10 dollars get 2 dollars off offer\", but the user never opens the offer during the 10 day validity period. The customer spends 15 dollars during those ten days. There will be an offer completion record in the data set; however, the customer was not influenced by the offer because the customer never viewed the offer.\n",
    "\n",
    "### Cleaning\n",
    "\n",
    "This makes data cleaning especially important and tricky.\n",
    "\n",
    "You'll also want to take into account that some demographic groups will make purchases even if they don't receive an offer. From a business perspective, if a customer is going to make a 10 dollar purchase without an offer anyway, you wouldn't want to send a buy 10 dollars get 2 dollars off offer. You'll want to try to assess what a certain demographic group will buy when not receiving any offers.\n",
    "\n",
    "### Final Advice\n",
    "\n",
    "Because this is a capstone project, you are free to analyze the data any way you see fit. For example, you could build a machine learning model that predicts how much someone will spend based on demographics and offer type. Or you could build a model that predicts whether or not someone will respond to an offer. Or, you don't need to build a machine learning model at all. You could develop a set of heuristics that determine what offer you should send to each customer (i.e., 75 percent of women customers who were 35 years old responded to offer A vs 40 percent from the same demographic to offer B, so send offer A)."
   ]
  },
  {
   "cell_type": "markdown",
   "metadata": {},
   "source": [
    "# Data Sets\n",
    "\n",
    "The data is contained in three files:\n",
    "\n",
    "* portfolio.json - containing offer ids and meta data about each offer (duration, type, etc.)\n",
    "* profile.json - demographic data for each customer\n",
    "* transcript.json - records for transactions, offers received, offers viewed, and offers completed\n",
    "\n",
    "Here is the schema and explanation of each variable in the files:\n",
    "\n",
    "**portfolio.json**\n",
    "* id (string) - offer id\n",
    "* offer_type (string) - type of offer ie BOGO, discount, informational\n",
    "* difficulty (int) - minimum required spend to complete an offer\n",
    "* reward (int) - reward given for completing an offer\n",
    "* duration (int) - time for offer to be open, in days\n",
    "* channels (list of strings)\n",
    "\n",
    "**profile.json**\n",
    "* age (int) - age of the customer \n",
    "* became_member_on (int) - date when customer created an app account\n",
    "* gender (str) - gender of the customer (note some entries contain 'O' for other rather than M or F)\n",
    "* id (str) - customer id\n",
    "* income (float) - customer's income\n",
    "\n",
    "**transcript.json**\n",
    "* event (str) - record description (ie transaction, offer received, offer viewed, etc.)\n",
    "* person (str) - customer id\n",
    "* time (int) - time in hours since start of test. The data begins at time t=0\n",
    "* value - (dict of strings) - either an offer id or transaction amount depending on the record\n",
    "\n",
    "**Note:** If you are using the workspace, you will need to go to the terminal and run the command `conda update pandas` before reading in the files. This is because the version of pandas in the workspace cannot read in the transcript.json file correctly, but the newest version of pandas can. You can access the termnal from the orange icon in the top left of this notebook.  \n",
    "\n",
    "You can see how to access the terminal and how the install works using the two images below.  First you need to access the terminal:\n",
    "\n",
    "<img src=\"pic1.png\"/>\n",
    "\n",
    "Then you will want to run the above command:\n",
    "\n",
    "<img src=\"pic2.png\"/>\n",
    "\n",
    "Finally, when you enter back into the notebook (use the jupyter icon again), you should be able to run the below cell without any errors."
   ]
  },
  {
   "cell_type": "code",
   "execution_count": 1,
   "metadata": {},
   "outputs": [],
   "source": [
    "import pandas as pd\n",
    "import numpy as np\n",
    "import math\n",
    "import json\n",
    "import matplotlib.pyplot as plt\n",
    "from mpl_toolkits.mplot3d import Axes3D\n",
    "from datetime import datetime, timedelta\n",
    "from tqdm import tqdm\n",
    "%matplotlib inline"
   ]
  },
  {
   "cell_type": "code",
   "execution_count": 2,
   "metadata": {},
   "outputs": [],
   "source": [
    "# read in the json files\n",
    "portfolio = pd.read_json('data/portfolio.json', orient='records', lines=True)\n",
    "profile = pd.read_json('data/profile.json', orient='records', lines=True)\n",
    "transcript = pd.read_json('data/transcript.json', orient='records', lines=True)"
   ]
  },
  {
   "cell_type": "markdown",
   "metadata": {},
   "source": [
    "# First Look at Data"
   ]
  },
  {
   "cell_type": "markdown",
   "metadata": {},
   "source": [
    "### 1- Portfolio"
   ]
  },
  {
   "cell_type": "code",
   "execution_count": 3,
   "metadata": {},
   "outputs": [
    {
     "data": {
      "text/html": [
       "<div>\n",
       "<style scoped>\n",
       "    .dataframe tbody tr th:only-of-type {\n",
       "        vertical-align: middle;\n",
       "    }\n",
       "\n",
       "    .dataframe tbody tr th {\n",
       "        vertical-align: top;\n",
       "    }\n",
       "\n",
       "    .dataframe thead th {\n",
       "        text-align: right;\n",
       "    }\n",
       "</style>\n",
       "<table border=\"1\" class=\"dataframe\">\n",
       "  <thead>\n",
       "    <tr style=\"text-align: right;\">\n",
       "      <th></th>\n",
       "      <th>channels</th>\n",
       "      <th>difficulty</th>\n",
       "      <th>duration</th>\n",
       "      <th>id</th>\n",
       "      <th>offer_type</th>\n",
       "      <th>reward</th>\n",
       "    </tr>\n",
       "  </thead>\n",
       "  <tbody>\n",
       "    <tr>\n",
       "      <th>0</th>\n",
       "      <td>[email, mobile, social]</td>\n",
       "      <td>10</td>\n",
       "      <td>7</td>\n",
       "      <td>ae264e3637204a6fb9bb56bc8210ddfd</td>\n",
       "      <td>bogo</td>\n",
       "      <td>10</td>\n",
       "    </tr>\n",
       "    <tr>\n",
       "      <th>1</th>\n",
       "      <td>[web, email, mobile, social]</td>\n",
       "      <td>10</td>\n",
       "      <td>5</td>\n",
       "      <td>4d5c57ea9a6940dd891ad53e9dbe8da0</td>\n",
       "      <td>bogo</td>\n",
       "      <td>10</td>\n",
       "    </tr>\n",
       "    <tr>\n",
       "      <th>2</th>\n",
       "      <td>[web, email, mobile]</td>\n",
       "      <td>0</td>\n",
       "      <td>4</td>\n",
       "      <td>3f207df678b143eea3cee63160fa8bed</td>\n",
       "      <td>informational</td>\n",
       "      <td>0</td>\n",
       "    </tr>\n",
       "    <tr>\n",
       "      <th>3</th>\n",
       "      <td>[web, email, mobile]</td>\n",
       "      <td>5</td>\n",
       "      <td>7</td>\n",
       "      <td>9b98b8c7a33c4b65b9aebfe6a799e6d9</td>\n",
       "      <td>bogo</td>\n",
       "      <td>5</td>\n",
       "    </tr>\n",
       "    <tr>\n",
       "      <th>4</th>\n",
       "      <td>[web, email]</td>\n",
       "      <td>20</td>\n",
       "      <td>10</td>\n",
       "      <td>0b1e1539f2cc45b7b9fa7c272da2e1d7</td>\n",
       "      <td>discount</td>\n",
       "      <td>5</td>\n",
       "    </tr>\n",
       "    <tr>\n",
       "      <th>5</th>\n",
       "      <td>[web, email, mobile, social]</td>\n",
       "      <td>7</td>\n",
       "      <td>7</td>\n",
       "      <td>2298d6c36e964ae4a3e7e9706d1fb8c2</td>\n",
       "      <td>discount</td>\n",
       "      <td>3</td>\n",
       "    </tr>\n",
       "    <tr>\n",
       "      <th>6</th>\n",
       "      <td>[web, email, mobile, social]</td>\n",
       "      <td>10</td>\n",
       "      <td>10</td>\n",
       "      <td>fafdcd668e3743c1bb461111dcafc2a4</td>\n",
       "      <td>discount</td>\n",
       "      <td>2</td>\n",
       "    </tr>\n",
       "    <tr>\n",
       "      <th>7</th>\n",
       "      <td>[email, mobile, social]</td>\n",
       "      <td>0</td>\n",
       "      <td>3</td>\n",
       "      <td>5a8bc65990b245e5a138643cd4eb9837</td>\n",
       "      <td>informational</td>\n",
       "      <td>0</td>\n",
       "    </tr>\n",
       "    <tr>\n",
       "      <th>8</th>\n",
       "      <td>[web, email, mobile, social]</td>\n",
       "      <td>5</td>\n",
       "      <td>5</td>\n",
       "      <td>f19421c1d4aa40978ebb69ca19b0e20d</td>\n",
       "      <td>bogo</td>\n",
       "      <td>5</td>\n",
       "    </tr>\n",
       "    <tr>\n",
       "      <th>9</th>\n",
       "      <td>[web, email, mobile]</td>\n",
       "      <td>10</td>\n",
       "      <td>7</td>\n",
       "      <td>2906b810c7d4411798c6938adc9daaa5</td>\n",
       "      <td>discount</td>\n",
       "      <td>2</td>\n",
       "    </tr>\n",
       "  </tbody>\n",
       "</table>\n",
       "</div>"
      ],
      "text/plain": [
       "                       channels  difficulty  duration  \\\n",
       "0       [email, mobile, social]          10         7   \n",
       "1  [web, email, mobile, social]          10         5   \n",
       "2          [web, email, mobile]           0         4   \n",
       "3          [web, email, mobile]           5         7   \n",
       "4                  [web, email]          20        10   \n",
       "5  [web, email, mobile, social]           7         7   \n",
       "6  [web, email, mobile, social]          10        10   \n",
       "7       [email, mobile, social]           0         3   \n",
       "8  [web, email, mobile, social]           5         5   \n",
       "9          [web, email, mobile]          10         7   \n",
       "\n",
       "                                 id     offer_type  reward  \n",
       "0  ae264e3637204a6fb9bb56bc8210ddfd           bogo      10  \n",
       "1  4d5c57ea9a6940dd891ad53e9dbe8da0           bogo      10  \n",
       "2  3f207df678b143eea3cee63160fa8bed  informational       0  \n",
       "3  9b98b8c7a33c4b65b9aebfe6a799e6d9           bogo       5  \n",
       "4  0b1e1539f2cc45b7b9fa7c272da2e1d7       discount       5  \n",
       "5  2298d6c36e964ae4a3e7e9706d1fb8c2       discount       3  \n",
       "6  fafdcd668e3743c1bb461111dcafc2a4       discount       2  \n",
       "7  5a8bc65990b245e5a138643cd4eb9837  informational       0  \n",
       "8  f19421c1d4aa40978ebb69ca19b0e20d           bogo       5  \n",
       "9  2906b810c7d4411798c6938adc9daaa5       discount       2  "
      ]
     },
     "execution_count": 3,
     "metadata": {},
     "output_type": "execute_result"
    }
   ],
   "source": [
    "portfolio"
   ]
  },
  {
   "cell_type": "markdown",
   "metadata": {},
   "source": [
    "Looking at the portfolio, I see 10 different types of offer id's. Each offer has a reward value between 0-10 and difficulty between 0-20. \n",
    "\n",
    "I see that each offer has a specific channel bundle associated with it. This might be a marketing decision and effectiveness of each channel can be studied seperately. But for this study, I am going to ignore the channels since it is out of scope. "
   ]
  },
  {
   "cell_type": "markdown",
   "metadata": {},
   "source": [
    "### 2- Profile"
   ]
  },
  {
   "cell_type": "code",
   "execution_count": 4,
   "metadata": {},
   "outputs": [
    {
     "data": {
      "text/html": [
       "<div>\n",
       "<style scoped>\n",
       "    .dataframe tbody tr th:only-of-type {\n",
       "        vertical-align: middle;\n",
       "    }\n",
       "\n",
       "    .dataframe tbody tr th {\n",
       "        vertical-align: top;\n",
       "    }\n",
       "\n",
       "    .dataframe thead th {\n",
       "        text-align: right;\n",
       "    }\n",
       "</style>\n",
       "<table border=\"1\" class=\"dataframe\">\n",
       "  <thead>\n",
       "    <tr style=\"text-align: right;\">\n",
       "      <th></th>\n",
       "      <th>age</th>\n",
       "      <th>became_member_on</th>\n",
       "      <th>gender</th>\n",
       "      <th>id</th>\n",
       "      <th>income</th>\n",
       "    </tr>\n",
       "  </thead>\n",
       "  <tbody>\n",
       "    <tr>\n",
       "      <th>0</th>\n",
       "      <td>118</td>\n",
       "      <td>20170212</td>\n",
       "      <td>None</td>\n",
       "      <td>68be06ca386d4c31939f3a4f0e3dd783</td>\n",
       "      <td>NaN</td>\n",
       "    </tr>\n",
       "    <tr>\n",
       "      <th>1</th>\n",
       "      <td>55</td>\n",
       "      <td>20170715</td>\n",
       "      <td>F</td>\n",
       "      <td>0610b486422d4921ae7d2bf64640c50b</td>\n",
       "      <td>112000.0</td>\n",
       "    </tr>\n",
       "    <tr>\n",
       "      <th>2</th>\n",
       "      <td>118</td>\n",
       "      <td>20180712</td>\n",
       "      <td>None</td>\n",
       "      <td>38fe809add3b4fcf9315a9694bb96ff5</td>\n",
       "      <td>NaN</td>\n",
       "    </tr>\n",
       "    <tr>\n",
       "      <th>3</th>\n",
       "      <td>75</td>\n",
       "      <td>20170509</td>\n",
       "      <td>F</td>\n",
       "      <td>78afa995795e4d85b5d9ceeca43f5fef</td>\n",
       "      <td>100000.0</td>\n",
       "    </tr>\n",
       "    <tr>\n",
       "      <th>4</th>\n",
       "      <td>118</td>\n",
       "      <td>20170804</td>\n",
       "      <td>None</td>\n",
       "      <td>a03223e636434f42ac4c3df47e8bac43</td>\n",
       "      <td>NaN</td>\n",
       "    </tr>\n",
       "  </tbody>\n",
       "</table>\n",
       "</div>"
      ],
      "text/plain": [
       "   age  became_member_on gender                                id    income\n",
       "0  118          20170212   None  68be06ca386d4c31939f3a4f0e3dd783       NaN\n",
       "1   55          20170715      F  0610b486422d4921ae7d2bf64640c50b  112000.0\n",
       "2  118          20180712   None  38fe809add3b4fcf9315a9694bb96ff5       NaN\n",
       "3   75          20170509      F  78afa995795e4d85b5d9ceeca43f5fef  100000.0\n",
       "4  118          20170804   None  a03223e636434f42ac4c3df47e8bac43       NaN"
      ]
     },
     "execution_count": 4,
     "metadata": {},
     "output_type": "execute_result"
    }
   ],
   "source": [
    "profile.head() "
   ]
  },
  {
   "cell_type": "markdown",
   "metadata": {},
   "source": [
    "First thing that grabs my attention in profile data is the repeated 118 for age values. Let's dig age information a little deeper."
   ]
  },
  {
   "cell_type": "code",
   "execution_count": 5,
   "metadata": {
    "scrolled": true
   },
   "outputs": [
    {
     "data": {
      "text/plain": [
       "<matplotlib.axes._subplots.AxesSubplot at 0x11844c278>"
      ]
     },
     "execution_count": 5,
     "metadata": {},
     "output_type": "execute_result"
    },
    {
     "data": {
      "image/png": "[encoded data removed]",
      "text/plain": [
       "<Figure size 432x288 with 1 Axes>"
      ]
     },
     "metadata": {
      "needs_background": "light"
     },
     "output_type": "display_data"
    }
   ],
   "source": [
    "profile['age'].hist(bins=15)"
   ]
  },
  {
   "cell_type": "markdown",
   "metadata": {},
   "source": [
    "As can be seen from the histogram, there is quite some 118's indeed and it is clearly an outlier just by looking at the histogram(if we ignore the fact that there is only 9 verified people who lived past 117 years. \n",
    "\n",
    "This is clearly due signup form forcing users to enter birt date and selection starting from 1900 or system defaulting empty age values to year 1900. No matter what, we should acknowledge that it is not correct and treat it properly.\n",
    "\n",
    "Rest of the age data has a normal distribution. I see the mean of the distribution to be around 50 years old, which is significantly higher than my expectations. This is probably due the nature of simulation data that I am given. At this point I am going to make conclusions based on this dataset and assume it is a proper representation of customers. There is cutoff at an age of 18 which clearly is another signup limitation.\n",
    "\n",
    "Let's see if age distribution is similar for all genders:"
   ]
  },
  {
   "cell_type": "code",
   "execution_count": 6,
   "metadata": {},
   "outputs": [
    {
     "data": {
      "image/png": "[encoded data removed]",
      "text/plain": [
       "<Figure size 1080x360 with 3 Axes>"
      ]
     },
     "metadata": {
      "needs_background": "light"
     },
     "output_type": "display_data"
    }
   ],
   "source": [
    "fig = plt.figure(figsize=(15,5))\n",
    "ax1 = fig.add_subplot(131)\n",
    "ax1 = profile[profile['gender']=='M']['age'].hist()\n",
    "ax2 = fig.add_subplot(132)\n",
    "ax2= profile[profile['gender']=='F']['age'].hist()\n",
    "ax3 = fig.add_subplot(133)\n",
    "ax3= profile[profile['gender']=='O']['age'].hist()\n",
    "ax1.title.set_text('Male')\n",
    "ax2.title.set_text('Female')\n",
    "ax3.title.set_text('Other')"
   ]
  },
  {
   "cell_type": "markdown",
   "metadata": {},
   "source": [
    "Looks like the distribution average roughly holds for all genders. We can see the total number of male users is higher."
   ]
  },
  {
   "cell_type": "markdown",
   "metadata": {},
   "source": [
    "### 3- Transcript"
   ]
  },
  {
   "cell_type": "code",
   "execution_count": 7,
   "metadata": {},
   "outputs": [
    {
     "data": {
      "text/html": [
       "<div>\n",
       "<style scoped>\n",
       "    .dataframe tbody tr th:only-of-type {\n",
       "        vertical-align: middle;\n",
       "    }\n",
       "\n",
       "    .dataframe tbody tr th {\n",
       "        vertical-align: top;\n",
       "    }\n",
       "\n",
       "    .dataframe thead th {\n",
       "        text-align: right;\n",
       "    }\n",
       "</style>\n",
       "<table border=\"1\" class=\"dataframe\">\n",
       "  <thead>\n",
       "    <tr style=\"text-align: right;\">\n",
       "      <th></th>\n",
       "      <th>event</th>\n",
       "      <th>person</th>\n",
       "      <th>time</th>\n",
       "      <th>value</th>\n",
       "    </tr>\n",
       "  </thead>\n",
       "  <tbody>\n",
       "    <tr>\n",
       "      <th>0</th>\n",
       "      <td>offer received</td>\n",
       "      <td>78afa995795e4d85b5d9ceeca43f5fef</td>\n",
       "      <td>0</td>\n",
       "      <td>{'offer id': '9b98b8c7a33c4b65b9aebfe6a799e6d9'}</td>\n",
       "    </tr>\n",
       "    <tr>\n",
       "      <th>1</th>\n",
       "      <td>offer received</td>\n",
       "      <td>a03223e636434f42ac4c3df47e8bac43</td>\n",
       "      <td>0</td>\n",
       "      <td>{'offer id': '0b1e1539f2cc45b7b9fa7c272da2e1d7'}</td>\n",
       "    </tr>\n",
       "    <tr>\n",
       "      <th>2</th>\n",
       "      <td>offer received</td>\n",
       "      <td>e2127556f4f64592b11af22de27a7932</td>\n",
       "      <td>0</td>\n",
       "      <td>{'offer id': '2906b810c7d4411798c6938adc9daaa5'}</td>\n",
       "    </tr>\n",
       "    <tr>\n",
       "      <th>3</th>\n",
       "      <td>offer received</td>\n",
       "      <td>8ec6ce2a7e7949b1bf142def7d0e0586</td>\n",
       "      <td>0</td>\n",
       "      <td>{'offer id': 'fafdcd668e3743c1bb461111dcafc2a4'}</td>\n",
       "    </tr>\n",
       "    <tr>\n",
       "      <th>4</th>\n",
       "      <td>offer received</td>\n",
       "      <td>68617ca6246f4fbc85e91a2a49552598</td>\n",
       "      <td>0</td>\n",
       "      <td>{'offer id': '4d5c57ea9a6940dd891ad53e9dbe8da0'}</td>\n",
       "    </tr>\n",
       "  </tbody>\n",
       "</table>\n",
       "</div>"
      ],
      "text/plain": [
       "            event                            person  time  \\\n",
       "0  offer received  78afa995795e4d85b5d9ceeca43f5fef     0   \n",
       "1  offer received  a03223e636434f42ac4c3df47e8bac43     0   \n",
       "2  offer received  e2127556f4f64592b11af22de27a7932     0   \n",
       "3  offer received  8ec6ce2a7e7949b1bf142def7d0e0586     0   \n",
       "4  offer received  68617ca6246f4fbc85e91a2a49552598     0   \n",
       "\n",
       "                                              value  \n",
       "0  {'offer id': '9b98b8c7a33c4b65b9aebfe6a799e6d9'}  \n",
       "1  {'offer id': '0b1e1539f2cc45b7b9fa7c272da2e1d7'}  \n",
       "2  {'offer id': '2906b810c7d4411798c6938adc9daaa5'}  \n",
       "3  {'offer id': 'fafdcd668e3743c1bb461111dcafc2a4'}  \n",
       "4  {'offer id': '4d5c57ea9a6940dd891ad53e9dbe8da0'}  "
      ]
     },
     "execution_count": 7,
     "metadata": {},
     "output_type": "execute_result"
    }
   ],
   "source": [
    "transcript.head()"
   ]
  },
  {
   "cell_type": "markdown",
   "metadata": {},
   "source": [
    "Transcript is the table where the user behaviour and interactions with offers lie. I need to map each event and offer with their corresponding personal and offer details. In order to do so I need to clean he value column and get rid of extra text. I am curious on variety of event types:"
   ]
  },
  {
   "cell_type": "code",
   "execution_count": 8,
   "metadata": {},
   "outputs": [
    {
     "data": {
      "text/plain": [
       "array(['offer received', 'offer viewed', 'transaction', 'offer completed'],\n",
       "      dtype=object)"
      ]
     },
     "execution_count": 8,
     "metadata": {},
     "output_type": "execute_result"
    }
   ],
   "source": [
    "transcript['event'].unique()"
   ]
  },
  {
   "cell_type": "markdown",
   "metadata": {},
   "source": [
    "# Data Cleaning"
   ]
  },
  {
   "cell_type": "markdown",
   "metadata": {},
   "source": [
    "### 1- Portfolio"
   ]
  },
  {
   "cell_type": "code",
   "execution_count": 9,
   "metadata": {},
   "outputs": [],
   "source": [
    "portfolio_clean = pd.concat((portfolio,pd.get_dummies(portfolio['offer_type'])), axis=1)#.drop(columns=['offer_type'],axis=0)"
   ]
  },
  {
   "cell_type": "code",
   "execution_count": 10,
   "metadata": {},
   "outputs": [],
   "source": [
    "portfolio_clean.rename(columns={'channels':'offer_channels',\n",
    "                                'difficulty':'offer_difficulty',\n",
    "                               'id':'offer_id',\n",
    "                               'reward':'offer_reward',\n",
    "                               'bogo':'offer_type_bogo',\n",
    "                               'discount':'offer_type_discount',\n",
    "                               'informational':'offer_type_informational'},inplace=True)"
   ]
  },
  {
   "cell_type": "code",
   "execution_count": 118,
   "metadata": {},
   "outputs": [
    {
     "data": {
      "text/html": [
       "<div>\n",
       "<style scoped>\n",
       "    .dataframe tbody tr th:only-of-type {\n",
       "        vertical-align: middle;\n",
       "    }\n",
       "\n",
       "    .dataframe tbody tr th {\n",
       "        vertical-align: top;\n",
       "    }\n",
       "\n",
       "    .dataframe thead th {\n",
       "        text-align: right;\n",
       "    }\n",
       "</style>\n",
       "<table border=\"1\" class=\"dataframe\">\n",
       "  <thead>\n",
       "    <tr style=\"text-align: right;\">\n",
       "      <th></th>\n",
       "      <th>offer_channels</th>\n",
       "      <th>offer_difficulty</th>\n",
       "      <th>duration</th>\n",
       "      <th>offer_id</th>\n",
       "      <th>offer_type</th>\n",
       "      <th>offer_reward</th>\n",
       "      <th>offer_type_bogo</th>\n",
       "      <th>offer_type_discount</th>\n",
       "      <th>offer_type_informational</th>\n",
       "    </tr>\n",
       "  </thead>\n",
       "  <tbody>\n",
       "    <tr>\n",
       "      <th>0</th>\n",
       "      <td>[email, mobile, social]</td>\n",
       "      <td>10</td>\n",
       "      <td>7</td>\n",
       "      <td>ae264e3637204a6fb9bb56bc8210ddfd</td>\n",
       "      <td>bogo</td>\n",
       "      <td>10</td>\n",
       "      <td>1</td>\n",
       "      <td>0</td>\n",
       "      <td>0</td>\n",
       "    </tr>\n",
       "    <tr>\n",
       "      <th>1</th>\n",
       "      <td>[web, email, mobile, social]</td>\n",
       "      <td>10</td>\n",
       "      <td>5</td>\n",
       "      <td>4d5c57ea9a6940dd891ad53e9dbe8da0</td>\n",
       "      <td>bogo</td>\n",
       "      <td>10</td>\n",
       "      <td>1</td>\n",
       "      <td>0</td>\n",
       "      <td>0</td>\n",
       "    </tr>\n",
       "    <tr>\n",
       "      <th>2</th>\n",
       "      <td>[web, email, mobile]</td>\n",
       "      <td>0</td>\n",
       "      <td>4</td>\n",
       "      <td>3f207df678b143eea3cee63160fa8bed</td>\n",
       "      <td>informational</td>\n",
       "      <td>0</td>\n",
       "      <td>0</td>\n",
       "      <td>0</td>\n",
       "      <td>1</td>\n",
       "    </tr>\n",
       "    <tr>\n",
       "      <th>3</th>\n",
       "      <td>[web, email, mobile]</td>\n",
       "      <td>5</td>\n",
       "      <td>7</td>\n",
       "      <td>9b98b8c7a33c4b65b9aebfe6a799e6d9</td>\n",
       "      <td>bogo</td>\n",
       "      <td>5</td>\n",
       "      <td>1</td>\n",
       "      <td>0</td>\n",
       "      <td>0</td>\n",
       "    </tr>\n",
       "    <tr>\n",
       "      <th>4</th>\n",
       "      <td>[web, email]</td>\n",
       "      <td>20</td>\n",
       "      <td>10</td>\n",
       "      <td>0b1e1539f2cc45b7b9fa7c272da2e1d7</td>\n",
       "      <td>discount</td>\n",
       "      <td>5</td>\n",
       "      <td>0</td>\n",
       "      <td>1</td>\n",
       "      <td>0</td>\n",
       "    </tr>\n",
       "    <tr>\n",
       "      <th>5</th>\n",
       "      <td>[web, email, mobile, social]</td>\n",
       "      <td>7</td>\n",
       "      <td>7</td>\n",
       "      <td>2298d6c36e964ae4a3e7e9706d1fb8c2</td>\n",
       "      <td>discount</td>\n",
       "      <td>3</td>\n",
       "      <td>0</td>\n",
       "      <td>1</td>\n",
       "      <td>0</td>\n",
       "    </tr>\n",
       "    <tr>\n",
       "      <th>6</th>\n",
       "      <td>[web, email, mobile, social]</td>\n",
       "      <td>10</td>\n",
       "      <td>10</td>\n",
       "      <td>fafdcd668e3743c1bb461111dcafc2a4</td>\n",
       "      <td>discount</td>\n",
       "      <td>2</td>\n",
       "      <td>0</td>\n",
       "      <td>1</td>\n",
       "      <td>0</td>\n",
       "    </tr>\n",
       "    <tr>\n",
       "      <th>7</th>\n",
       "      <td>[email, mobile, social]</td>\n",
       "      <td>0</td>\n",
       "      <td>3</td>\n",
       "      <td>5a8bc65990b245e5a138643cd4eb9837</td>\n",
       "      <td>informational</td>\n",
       "      <td>0</td>\n",
       "      <td>0</td>\n",
       "      <td>0</td>\n",
       "      <td>1</td>\n",
       "    </tr>\n",
       "    <tr>\n",
       "      <th>8</th>\n",
       "      <td>[web, email, mobile, social]</td>\n",
       "      <td>5</td>\n",
       "      <td>5</td>\n",
       "      <td>f19421c1d4aa40978ebb69ca19b0e20d</td>\n",
       "      <td>bogo</td>\n",
       "      <td>5</td>\n",
       "      <td>1</td>\n",
       "      <td>0</td>\n",
       "      <td>0</td>\n",
       "    </tr>\n",
       "    <tr>\n",
       "      <th>9</th>\n",
       "      <td>[web, email, mobile]</td>\n",
       "      <td>10</td>\n",
       "      <td>7</td>\n",
       "      <td>2906b810c7d4411798c6938adc9daaa5</td>\n",
       "      <td>discount</td>\n",
       "      <td>2</td>\n",
       "      <td>0</td>\n",
       "      <td>1</td>\n",
       "      <td>0</td>\n",
       "    </tr>\n",
       "  </tbody>\n",
       "</table>\n",
       "</div>"
      ],
      "text/plain": [
       "                 offer_channels  offer_difficulty  duration  \\\n",
       "0       [email, mobile, social]                10         7   \n",
       "1  [web, email, mobile, social]                10         5   \n",
       "2          [web, email, mobile]                 0         4   \n",
       "3          [web, email, mobile]                 5         7   \n",
       "4                  [web, email]                20        10   \n",
       "5  [web, email, mobile, social]                 7         7   \n",
       "6  [web, email, mobile, social]                10        10   \n",
       "7       [email, mobile, social]                 0         3   \n",
       "8  [web, email, mobile, social]                 5         5   \n",
       "9          [web, email, mobile]                10         7   \n",
       "\n",
       "                           offer_id     offer_type  offer_reward  \\\n",
       "0  ae264e3637204a6fb9bb56bc8210ddfd           bogo            10   \n",
       "1  4d5c57ea9a6940dd891ad53e9dbe8da0           bogo            10   \n",
       "2  3f207df678b143eea3cee63160fa8bed  informational             0   \n",
       "3  9b98b8c7a33c4b65b9aebfe6a799e6d9           bogo             5   \n",
       "4  0b1e1539f2cc45b7b9fa7c272da2e1d7       discount             5   \n",
       "5  2298d6c36e964ae4a3e7e9706d1fb8c2       discount             3   \n",
       "6  fafdcd668e3743c1bb461111dcafc2a4       discount             2   \n",
       "7  5a8bc65990b245e5a138643cd4eb9837  informational             0   \n",
       "8  f19421c1d4aa40978ebb69ca19b0e20d           bogo             5   \n",
       "9  2906b810c7d4411798c6938adc9daaa5       discount             2   \n",
       "\n",
       "   offer_type_bogo  offer_type_discount  offer_type_informational  \n",
       "0                1                    0                         0  \n",
       "1                1                    0                         0  \n",
       "2                0                    0                         1  \n",
       "3                1                    0                         0  \n",
       "4                0                    1                         0  \n",
       "5                0                    1                         0  \n",
       "6                0                    1                         0  \n",
       "7                0                    0                         1  \n",
       "8                1                    0                         0  \n",
       "9                0                    1                         0  "
      ]
     },
     "execution_count": 118,
     "metadata": {},
     "output_type": "execute_result"
    }
   ],
   "source": [
    "portfolio_clean.head(10)"
   ]
  },
  {
   "cell_type": "markdown",
   "metadata": {},
   "source": [
    "## 2- Profile"
   ]
  },
  {
   "cell_type": "markdown",
   "metadata": {},
   "source": [
    "Second step is cleaning the outlier ages in profile data."
   ]
  },
  {
   "cell_type": "code",
   "execution_count": 12,
   "metadata": {},
   "outputs": [
    {
     "data": {
      "text/plain": [
       "<matplotlib.axes._subplots.AxesSubplot at 0x11ecbf320>"
      ]
     },
     "execution_count": 12,
     "metadata": {},
     "output_type": "execute_result"
    },
    {
     "data": {
      "image/png": "[encoded data removed]",
      "text/plain": [
       "<Figure size 432x288 with 1 Axes>"
      ]
     },
     "metadata": {
      "needs_background": "light"
     },
     "output_type": "display_data"
    }
   ],
   "source": [
    "profile_clean = profile.copy()\n",
    "profile_clean['age'] = profile_clean['age'].apply(lambda x: np.nan if x == 118 else x)\n",
    "profile_clean['age'].hist(bins=15)"
   ]
  },
  {
   "cell_type": "markdown",
   "metadata": {},
   "source": [
    "For this project, we are asked to derive conclusions based on the demographics data. Therefore, we don't need to process transactions from user profiles where all three Age, Income, Gender information is not defined. Let's drop those users."
   ]
  },
  {
   "cell_type": "code",
   "execution_count": 13,
   "metadata": {},
   "outputs": [
    {
     "data": {
      "text/html": [
       "<div>\n",
       "<style scoped>\n",
       "    .dataframe tbody tr th:only-of-type {\n",
       "        vertical-align: middle;\n",
       "    }\n",
       "\n",
       "    .dataframe tbody tr th {\n",
       "        vertical-align: top;\n",
       "    }\n",
       "\n",
       "    .dataframe thead th {\n",
       "        text-align: right;\n",
       "    }\n",
       "</style>\n",
       "<table border=\"1\" class=\"dataframe\">\n",
       "  <thead>\n",
       "    <tr style=\"text-align: right;\">\n",
       "      <th></th>\n",
       "      <th>age</th>\n",
       "      <th>became_member_on</th>\n",
       "      <th>gender</th>\n",
       "      <th>id</th>\n",
       "      <th>income</th>\n",
       "    </tr>\n",
       "  </thead>\n",
       "  <tbody>\n",
       "    <tr>\n",
       "      <th>1</th>\n",
       "      <td>55.0</td>\n",
       "      <td>20170715</td>\n",
       "      <td>F</td>\n",
       "      <td>0610b486422d4921ae7d2bf64640c50b</td>\n",
       "      <td>112000.0</td>\n",
       "    </tr>\n",
       "    <tr>\n",
       "      <th>3</th>\n",
       "      <td>75.0</td>\n",
       "      <td>20170509</td>\n",
       "      <td>F</td>\n",
       "      <td>78afa995795e4d85b5d9ceeca43f5fef</td>\n",
       "      <td>100000.0</td>\n",
       "    </tr>\n",
       "    <tr>\n",
       "      <th>5</th>\n",
       "      <td>68.0</td>\n",
       "      <td>20180426</td>\n",
       "      <td>M</td>\n",
       "      <td>e2127556f4f64592b11af22de27a7932</td>\n",
       "      <td>70000.0</td>\n",
       "    </tr>\n",
       "  </tbody>\n",
       "</table>\n",
       "</div>"
      ],
      "text/plain": [
       "    age  became_member_on gender                                id    income\n",
       "1  55.0          20170715      F  0610b486422d4921ae7d2bf64640c50b  112000.0\n",
       "3  75.0          20170509      F  78afa995795e4d85b5d9ceeca43f5fef  100000.0\n",
       "5  68.0          20180426      M  e2127556f4f64592b11af22de27a7932   70000.0"
      ]
     },
     "execution_count": 13,
     "metadata": {},
     "output_type": "execute_result"
    }
   ],
   "source": [
    "profile_clean = profile_clean[(profile_clean['age'].notnull()) & (profile_clean['gender'].notnull()) & (profile_clean['income'].notnull())]\n",
    "profile_clean.head(3)"
   ]
  },
  {
   "cell_type": "code",
   "execution_count": 14,
   "metadata": {},
   "outputs": [],
   "source": [
    "profile_clean['became_member_on'] = profile_clean['became_member_on'].apply(lambda x: datetime(year=int(str(x)[0:4]), month=int(str(x)[4:6]), day=int(str(x)[6:8])))"
   ]
  },
  {
   "cell_type": "code",
   "execution_count": 15,
   "metadata": {},
   "outputs": [],
   "source": [
    "profile_clean.rename(columns={'age':'user_age',\n",
    "                                'difficulty':'offer_difficulty',\n",
    "                               'gender':'user_gender',\n",
    "                               'id':'user_id',\n",
    "                               'income':'user_income'},inplace=True)"
   ]
  },
  {
   "cell_type": "code",
   "execution_count": 16,
   "metadata": {},
   "outputs": [],
   "source": [
    "profile_clean=profile_clean.drop_duplicates()"
   ]
  },
  {
   "cell_type": "code",
   "execution_count": null,
   "metadata": {},
   "outputs": [],
   "source": [
    "profile_distribution = profile_clean.groupby(by=['user_gender','user_age'])['user_id'].nunique().unstack().transpose()\n",
    "profile_distribution.head()"
   ]
  },
  {
   "cell_type": "code",
   "execution_count": 17,
   "metadata": {},
   "outputs": [
    {
     "data": {
      "text/html": [
       "<div>\n",
       "<style scoped>\n",
       "    .dataframe tbody tr th:only-of-type {\n",
       "        vertical-align: middle;\n",
       "    }\n",
       "\n",
       "    .dataframe tbody tr th {\n",
       "        vertical-align: top;\n",
       "    }\n",
       "\n",
       "    .dataframe thead th {\n",
       "        text-align: right;\n",
       "    }\n",
       "</style>\n",
       "<table border=\"1\" class=\"dataframe\">\n",
       "  <thead>\n",
       "    <tr style=\"text-align: right;\">\n",
       "      <th></th>\n",
       "      <th>user_age</th>\n",
       "      <th>became_member_on</th>\n",
       "      <th>user_gender</th>\n",
       "      <th>user_id</th>\n",
       "      <th>user_income</th>\n",
       "    </tr>\n",
       "  </thead>\n",
       "  <tbody>\n",
       "    <tr>\n",
       "      <th>1</th>\n",
       "      <td>55.0</td>\n",
       "      <td>2017-07-15</td>\n",
       "      <td>F</td>\n",
       "      <td>0610b486422d4921ae7d2bf64640c50b</td>\n",
       "      <td>112000.0</td>\n",
       "    </tr>\n",
       "    <tr>\n",
       "      <th>3</th>\n",
       "      <td>75.0</td>\n",
       "      <td>2017-05-09</td>\n",
       "      <td>F</td>\n",
       "      <td>78afa995795e4d85b5d9ceeca43f5fef</td>\n",
       "      <td>100000.0</td>\n",
       "    </tr>\n",
       "    <tr>\n",
       "      <th>5</th>\n",
       "      <td>68.0</td>\n",
       "      <td>2018-04-26</td>\n",
       "      <td>M</td>\n",
       "      <td>e2127556f4f64592b11af22de27a7932</td>\n",
       "      <td>70000.0</td>\n",
       "    </tr>\n",
       "  </tbody>\n",
       "</table>\n",
       "</div>"
      ],
      "text/plain": [
       "   user_age became_member_on user_gender                           user_id  \\\n",
       "1      55.0       2017-07-15           F  0610b486422d4921ae7d2bf64640c50b   \n",
       "3      75.0       2017-05-09           F  78afa995795e4d85b5d9ceeca43f5fef   \n",
       "5      68.0       2018-04-26           M  e2127556f4f64592b11af22de27a7932   \n",
       "\n",
       "   user_income  \n",
       "1     112000.0  \n",
       "3     100000.0  \n",
       "5      70000.0  "
      ]
     },
     "execution_count": 17,
     "metadata": {},
     "output_type": "execute_result"
    }
   ],
   "source": [
    "profile_clean.head(3)"
   ]
  },
  {
   "cell_type": "code",
   "execution_count": 18,
   "metadata": {},
   "outputs": [
    {
     "data": {
      "text/html": [
       "<div>\n",
       "<style scoped>\n",
       "    .dataframe tbody tr th:only-of-type {\n",
       "        vertical-align: middle;\n",
       "    }\n",
       "\n",
       "    .dataframe tbody tr th {\n",
       "        vertical-align: top;\n",
       "    }\n",
       "\n",
       "    .dataframe thead th {\n",
       "        text-align: right;\n",
       "    }\n",
       "</style>\n",
       "<table border=\"1\" class=\"dataframe\">\n",
       "  <thead>\n",
       "    <tr style=\"text-align: right;\">\n",
       "      <th>user_gender</th>\n",
       "      <th>F</th>\n",
       "      <th>M</th>\n",
       "      <th>O</th>\n",
       "    </tr>\n",
       "    <tr>\n",
       "      <th>user_age</th>\n",
       "      <th></th>\n",
       "      <th></th>\n",
       "      <th></th>\n",
       "    </tr>\n",
       "  </thead>\n",
       "  <tbody>\n",
       "    <tr>\n",
       "      <th>18.0</th>\n",
       "      <td>14.0</td>\n",
       "      <td>56.0</td>\n",
       "      <td>NaN</td>\n",
       "    </tr>\n",
       "    <tr>\n",
       "      <th>19.0</th>\n",
       "      <td>31.0</td>\n",
       "      <td>104.0</td>\n",
       "      <td>NaN</td>\n",
       "    </tr>\n",
       "    <tr>\n",
       "      <th>20.0</th>\n",
       "      <td>35.0</td>\n",
       "      <td>96.0</td>\n",
       "      <td>4.0</td>\n",
       "    </tr>\n",
       "    <tr>\n",
       "      <th>21.0</th>\n",
       "      <td>41.0</td>\n",
       "      <td>96.0</td>\n",
       "      <td>3.0</td>\n",
       "    </tr>\n",
       "    <tr>\n",
       "      <th>22.0</th>\n",
       "      <td>46.0</td>\n",
       "      <td>84.0</td>\n",
       "      <td>1.0</td>\n",
       "    </tr>\n",
       "  </tbody>\n",
       "</table>\n",
       "</div>"
      ],
      "text/plain": [
       "user_gender     F      M    O\n",
       "user_age                     \n",
       "18.0         14.0   56.0  NaN\n",
       "19.0         31.0  104.0  NaN\n",
       "20.0         35.0   96.0  4.0\n",
       "21.0         41.0   96.0  3.0\n",
       "22.0         46.0   84.0  1.0"
      ]
     },
     "execution_count": 18,
     "metadata": {},
     "output_type": "execute_result"
    }
   ],
   "source": [
    "profile_distribution = profile_clean.groupby(by=['user_gender','user_age'])['user_id'].nunique().unstack().transpose()\n",
    "profile_distribution.head()"
   ]
  },
  {
   "cell_type": "markdown",
   "metadata": {},
   "source": [
    "## Transcript"
   ]
  },
  {
   "cell_type": "markdown",
   "metadata": {},
   "source": [
    "First, I would like to understand how many different types of transactions are listed."
   ]
  },
  {
   "cell_type": "code",
   "execution_count": 19,
   "metadata": {
    "scrolled": true
   },
   "outputs": [
    {
     "data": {
      "text/plain": [
       "{'amount', 'offer id', 'offer_id', 'reward'}"
      ]
     },
     "execution_count": 19,
     "metadata": {},
     "output_type": "execute_result"
    }
   ],
   "source": [
    "transaction_types=set()\n",
    "transcript['value'].apply(lambda x: list(x.keys()))\n",
    "for i in range(transcript['value'].shape[0]):\n",
    "    for transaction in list(transcript['value'].iloc[i].keys()):\n",
    "        transaction_types.add(transaction)\n",
    "transaction_types"
   ]
  },
  {
   "cell_type": "markdown",
   "metadata": {},
   "source": [
    "Clearly the values for \"offer_id\" and \"offer id\" should be united. "
   ]
  },
  {
   "cell_type": "code",
   "execution_count": 20,
   "metadata": {},
   "outputs": [],
   "source": [
    "#values = transcript['value'].apply(pd.Series)\n",
    "#values.to_pickle(\"./values.pkl\")"
   ]
  },
  {
   "cell_type": "markdown",
   "metadata": {},
   "source": [
    "values['offer_id'] = np.logical_or(values['offer id'].fillna(0),values['offer_id'].fillna(0))\n",
    "values = values.drop(['offer id'],axis=1)"
   ]
  },
  {
   "cell_type": "code",
   "execution_count": 21,
   "metadata": {},
   "outputs": [],
   "source": [
    "values= pd.read_pickle(\"./values.pkl\")"
   ]
  },
  {
   "cell_type": "code",
   "execution_count": 22,
   "metadata": {},
   "outputs": [],
   "source": [
    "transcript_clean = pd.concat([transcript,values],axis=1,sort=False).drop(['value','reward'],axis=1)"
   ]
  },
  {
   "cell_type": "code",
   "execution_count": 23,
   "metadata": {},
   "outputs": [
    {
     "data": {
      "text/html": [
       "<div>\n",
       "<style scoped>\n",
       "    .dataframe tbody tr th:only-of-type {\n",
       "        vertical-align: middle;\n",
       "    }\n",
       "\n",
       "    .dataframe tbody tr th {\n",
       "        vertical-align: top;\n",
       "    }\n",
       "\n",
       "    .dataframe thead th {\n",
       "        text-align: right;\n",
       "    }\n",
       "</style>\n",
       "<table border=\"1\" class=\"dataframe\">\n",
       "  <thead>\n",
       "    <tr style=\"text-align: right;\">\n",
       "      <th></th>\n",
       "      <th>event</th>\n",
       "      <th>person</th>\n",
       "      <th>time</th>\n",
       "      <th>amount</th>\n",
       "      <th>offer_id</th>\n",
       "    </tr>\n",
       "  </thead>\n",
       "  <tbody>\n",
       "    <tr>\n",
       "      <th>0</th>\n",
       "      <td>offer received</td>\n",
       "      <td>78afa995795e4d85b5d9ceeca43f5fef</td>\n",
       "      <td>0</td>\n",
       "      <td>NaN</td>\n",
       "      <td>9b98b8c7a33c4b65b9aebfe6a799e6d9</td>\n",
       "    </tr>\n",
       "    <tr>\n",
       "      <th>1</th>\n",
       "      <td>offer received</td>\n",
       "      <td>a03223e636434f42ac4c3df47e8bac43</td>\n",
       "      <td>0</td>\n",
       "      <td>NaN</td>\n",
       "      <td>0b1e1539f2cc45b7b9fa7c272da2e1d7</td>\n",
       "    </tr>\n",
       "    <tr>\n",
       "      <th>2</th>\n",
       "      <td>offer received</td>\n",
       "      <td>e2127556f4f64592b11af22de27a7932</td>\n",
       "      <td>0</td>\n",
       "      <td>NaN</td>\n",
       "      <td>2906b810c7d4411798c6938adc9daaa5</td>\n",
       "    </tr>\n",
       "  </tbody>\n",
       "</table>\n",
       "</div>"
      ],
      "text/plain": [
       "            event                            person  time  amount  \\\n",
       "0  offer received  78afa995795e4d85b5d9ceeca43f5fef     0     NaN   \n",
       "1  offer received  a03223e636434f42ac4c3df47e8bac43     0     NaN   \n",
       "2  offer received  e2127556f4f64592b11af22de27a7932     0     NaN   \n",
       "\n",
       "                           offer_id  \n",
       "0  9b98b8c7a33c4b65b9aebfe6a799e6d9  \n",
       "1  0b1e1539f2cc45b7b9fa7c272da2e1d7  \n",
       "2  2906b810c7d4411798c6938adc9daaa5  "
      ]
     },
     "execution_count": 23,
     "metadata": {},
     "output_type": "execute_result"
    }
   ],
   "source": [
    "transcript_clean.head(3)"
   ]
  },
  {
   "cell_type": "code",
   "execution_count": 24,
   "metadata": {},
   "outputs": [],
   "source": [
    "transcript_clean.rename(columns={'person':'user_id'},inplace=True)"
   ]
  },
  {
   "cell_type": "code",
   "execution_count": 25,
   "metadata": {},
   "outputs": [],
   "source": [
    "transcript_clean=transcript_clean.drop_duplicates()"
   ]
  },
  {
   "cell_type": "code",
   "execution_count": 26,
   "metadata": {},
   "outputs": [
    {
     "data": {
      "text/html": [
       "<div>\n",
       "<style scoped>\n",
       "    .dataframe tbody tr th:only-of-type {\n",
       "        vertical-align: middle;\n",
       "    }\n",
       "\n",
       "    .dataframe tbody tr th {\n",
       "        vertical-align: top;\n",
       "    }\n",
       "\n",
       "    .dataframe thead th {\n",
       "        text-align: right;\n",
       "    }\n",
       "</style>\n",
       "<table border=\"1\" class=\"dataframe\">\n",
       "  <thead>\n",
       "    <tr style=\"text-align: right;\">\n",
       "      <th></th>\n",
       "      <th>event</th>\n",
       "      <th>user_id</th>\n",
       "      <th>time</th>\n",
       "      <th>amount</th>\n",
       "      <th>offer_id</th>\n",
       "    </tr>\n",
       "  </thead>\n",
       "  <tbody>\n",
       "    <tr>\n",
       "      <th>0</th>\n",
       "      <td>offer received</td>\n",
       "      <td>78afa995795e4d85b5d9ceeca43f5fef</td>\n",
       "      <td>0</td>\n",
       "      <td>NaN</td>\n",
       "      <td>9b98b8c7a33c4b65b9aebfe6a799e6d9</td>\n",
       "    </tr>\n",
       "    <tr>\n",
       "      <th>1</th>\n",
       "      <td>offer received</td>\n",
       "      <td>a03223e636434f42ac4c3df47e8bac43</td>\n",
       "      <td>0</td>\n",
       "      <td>NaN</td>\n",
       "      <td>0b1e1539f2cc45b7b9fa7c272da2e1d7</td>\n",
       "    </tr>\n",
       "    <tr>\n",
       "      <th>2</th>\n",
       "      <td>offer received</td>\n",
       "      <td>e2127556f4f64592b11af22de27a7932</td>\n",
       "      <td>0</td>\n",
       "      <td>NaN</td>\n",
       "      <td>2906b810c7d4411798c6938adc9daaa5</td>\n",
       "    </tr>\n",
       "  </tbody>\n",
       "</table>\n",
       "</div>"
      ],
      "text/plain": [
       "            event                           user_id  time  amount  \\\n",
       "0  offer received  78afa995795e4d85b5d9ceeca43f5fef     0     NaN   \n",
       "1  offer received  a03223e636434f42ac4c3df47e8bac43     0     NaN   \n",
       "2  offer received  e2127556f4f64592b11af22de27a7932     0     NaN   \n",
       "\n",
       "                           offer_id  \n",
       "0  9b98b8c7a33c4b65b9aebfe6a799e6d9  \n",
       "1  0b1e1539f2cc45b7b9fa7c272da2e1d7  \n",
       "2  2906b810c7d4411798c6938adc9daaa5  "
      ]
     },
     "execution_count": 26,
     "metadata": {},
     "output_type": "execute_result"
    }
   ],
   "source": [
    "transcript_clean.head(3)"
   ]
  },
  {
   "cell_type": "markdown",
   "metadata": {},
   "source": [
    "I suspect amount values to be nan for all events but transaction, and transactions not being tracked related to offers. Let's check."
   ]
  },
  {
   "cell_type": "code",
   "execution_count": 27,
   "metadata": {},
   "outputs": [
    {
     "data": {
      "text/plain": [
       "array(['transaction'], dtype=object)"
      ]
     },
     "execution_count": 27,
     "metadata": {},
     "output_type": "execute_result"
    }
   ],
   "source": [
    "transcript_clean[transcript_clean['amount'].notnull()]['event'].unique()"
   ]
  },
  {
   "cell_type": "code",
   "execution_count": 28,
   "metadata": {},
   "outputs": [
    {
     "data": {
      "text/html": [
       "<div>\n",
       "<style scoped>\n",
       "    .dataframe tbody tr th:only-of-type {\n",
       "        vertical-align: middle;\n",
       "    }\n",
       "\n",
       "    .dataframe tbody tr th {\n",
       "        vertical-align: top;\n",
       "    }\n",
       "\n",
       "    .dataframe thead th {\n",
       "        text-align: right;\n",
       "    }\n",
       "</style>\n",
       "<table border=\"1\" class=\"dataframe\">\n",
       "  <thead>\n",
       "    <tr style=\"text-align: right;\">\n",
       "      <th></th>\n",
       "      <th>event</th>\n",
       "      <th>user_id</th>\n",
       "      <th>time</th>\n",
       "      <th>amount</th>\n",
       "      <th>offer_id</th>\n",
       "    </tr>\n",
       "  </thead>\n",
       "  <tbody>\n",
       "    <tr>\n",
       "      <th>12654</th>\n",
       "      <td>transaction</td>\n",
       "      <td>02c083884c7d45b39cc68e1314fec56c</td>\n",
       "      <td>0</td>\n",
       "      <td>0.83</td>\n",
       "      <td>0</td>\n",
       "    </tr>\n",
       "    <tr>\n",
       "      <th>12657</th>\n",
       "      <td>transaction</td>\n",
       "      <td>9fa9ae8f57894cc9a3b8a9bbe0fc1b2f</td>\n",
       "      <td>0</td>\n",
       "      <td>34.56</td>\n",
       "      <td>0</td>\n",
       "    </tr>\n",
       "    <tr>\n",
       "      <th>12659</th>\n",
       "      <td>transaction</td>\n",
       "      <td>54890f68699049c2a04d415abc25e717</td>\n",
       "      <td>0</td>\n",
       "      <td>13.23</td>\n",
       "      <td>0</td>\n",
       "    </tr>\n",
       "  </tbody>\n",
       "</table>\n",
       "</div>"
      ],
      "text/plain": [
       "             event                           user_id  time  amount offer_id\n",
       "12654  transaction  02c083884c7d45b39cc68e1314fec56c     0    0.83        0\n",
       "12657  transaction  9fa9ae8f57894cc9a3b8a9bbe0fc1b2f     0   34.56        0\n",
       "12659  transaction  54890f68699049c2a04d415abc25e717     0   13.23        0"
      ]
     },
     "execution_count": 28,
     "metadata": {},
     "output_type": "execute_result"
    }
   ],
   "source": [
    "transcript_clean[transcript_clean['event']=='transaction'].head(3)"
   ]
  },
  {
   "cell_type": "markdown",
   "metadata": {},
   "source": [
    "As I suspected, it is the case. This information may help me in the future."
   ]
  },
  {
   "cell_type": "markdown",
   "metadata": {},
   "source": [
    "## Data Transformation"
   ]
  },
  {
   "cell_type": "markdown",
   "metadata": {},
   "source": [
    "It is time to combine the dataframes into a single dataframe to before starting analysis. I know that profile and transcript dataframes share user id's in common and transcript and portfolio has offer_id's in common."
   ]
  },
  {
   "cell_type": "code",
   "execution_count": 29,
   "metadata": {
    "scrolled": true
   },
   "outputs": [
    {
     "data": {
      "text/html": [
       "<div>\n",
       "<style scoped>\n",
       "    .dataframe tbody tr th:only-of-type {\n",
       "        vertical-align: middle;\n",
       "    }\n",
       "\n",
       "    .dataframe tbody tr th {\n",
       "        vertical-align: top;\n",
       "    }\n",
       "\n",
       "    .dataframe thead th {\n",
       "        text-align: right;\n",
       "    }\n",
       "</style>\n",
       "<table border=\"1\" class=\"dataframe\">\n",
       "  <thead>\n",
       "    <tr style=\"text-align: right;\">\n",
       "      <th></th>\n",
       "      <th>event</th>\n",
       "      <th>user_id</th>\n",
       "      <th>time</th>\n",
       "      <th>amount</th>\n",
       "      <th>offer_id</th>\n",
       "      <th>user_age</th>\n",
       "      <th>became_member_on</th>\n",
       "      <th>user_gender</th>\n",
       "      <th>user_income</th>\n",
       "      <th>offer_channels</th>\n",
       "      <th>offer_difficulty</th>\n",
       "      <th>duration</th>\n",
       "      <th>offer_type</th>\n",
       "      <th>offer_reward</th>\n",
       "      <th>offer_type_bogo</th>\n",
       "      <th>offer_type_discount</th>\n",
       "      <th>offer_type_informational</th>\n",
       "    </tr>\n",
       "  </thead>\n",
       "  <tbody>\n",
       "    <tr>\n",
       "      <th>0</th>\n",
       "      <td>offer received</td>\n",
       "      <td>78afa995795e4d85b5d9ceeca43f5fef</td>\n",
       "      <td>0</td>\n",
       "      <td>NaN</td>\n",
       "      <td>9b98b8c7a33c4b65b9aebfe6a799e6d9</td>\n",
       "      <td>75.0</td>\n",
       "      <td>2017-05-09</td>\n",
       "      <td>F</td>\n",
       "      <td>100000.0</td>\n",
       "      <td>[web, email, mobile]</td>\n",
       "      <td>5.0</td>\n",
       "      <td>7.0</td>\n",
       "      <td>bogo</td>\n",
       "      <td>5.0</td>\n",
       "      <td>1.0</td>\n",
       "      <td>0.0</td>\n",
       "      <td>0.0</td>\n",
       "    </tr>\n",
       "    <tr>\n",
       "      <th>1</th>\n",
       "      <td>offer viewed</td>\n",
       "      <td>78afa995795e4d85b5d9ceeca43f5fef</td>\n",
       "      <td>6</td>\n",
       "      <td>NaN</td>\n",
       "      <td>9b98b8c7a33c4b65b9aebfe6a799e6d9</td>\n",
       "      <td>75.0</td>\n",
       "      <td>2017-05-09</td>\n",
       "      <td>F</td>\n",
       "      <td>100000.0</td>\n",
       "      <td>[web, email, mobile]</td>\n",
       "      <td>5.0</td>\n",
       "      <td>7.0</td>\n",
       "      <td>bogo</td>\n",
       "      <td>5.0</td>\n",
       "      <td>1.0</td>\n",
       "      <td>0.0</td>\n",
       "      <td>0.0</td>\n",
       "    </tr>\n",
       "    <tr>\n",
       "      <th>2</th>\n",
       "      <td>offer completed</td>\n",
       "      <td>78afa995795e4d85b5d9ceeca43f5fef</td>\n",
       "      <td>132</td>\n",
       "      <td>NaN</td>\n",
       "      <td>9b98b8c7a33c4b65b9aebfe6a799e6d9</td>\n",
       "      <td>75.0</td>\n",
       "      <td>2017-05-09</td>\n",
       "      <td>F</td>\n",
       "      <td>100000.0</td>\n",
       "      <td>[web, email, mobile]</td>\n",
       "      <td>5.0</td>\n",
       "      <td>7.0</td>\n",
       "      <td>bogo</td>\n",
       "      <td>5.0</td>\n",
       "      <td>1.0</td>\n",
       "      <td>0.0</td>\n",
       "      <td>0.0</td>\n",
       "    </tr>\n",
       "  </tbody>\n",
       "</table>\n",
       "</div>"
      ],
      "text/plain": [
       "             event                           user_id  time  amount  \\\n",
       "0   offer received  78afa995795e4d85b5d9ceeca43f5fef     0     NaN   \n",
       "1     offer viewed  78afa995795e4d85b5d9ceeca43f5fef     6     NaN   \n",
       "2  offer completed  78afa995795e4d85b5d9ceeca43f5fef   132     NaN   \n",
       "\n",
       "                           offer_id  user_age became_member_on user_gender  \\\n",
       "0  9b98b8c7a33c4b65b9aebfe6a799e6d9      75.0       2017-05-09           F   \n",
       "1  9b98b8c7a33c4b65b9aebfe6a799e6d9      75.0       2017-05-09           F   \n",
       "2  9b98b8c7a33c4b65b9aebfe6a799e6d9      75.0       2017-05-09           F   \n",
       "\n",
       "   user_income        offer_channels  offer_difficulty  duration offer_type  \\\n",
       "0     100000.0  [web, email, mobile]               5.0       7.0       bogo   \n",
       "1     100000.0  [web, email, mobile]               5.0       7.0       bogo   \n",
       "2     100000.0  [web, email, mobile]               5.0       7.0       bogo   \n",
       "\n",
       "   offer_reward  offer_type_bogo  offer_type_discount  \\\n",
       "0           5.0              1.0                  0.0   \n",
       "1           5.0              1.0                  0.0   \n",
       "2           5.0              1.0                  0.0   \n",
       "\n",
       "   offer_type_informational  \n",
       "0                       0.0  \n",
       "1                       0.0  \n",
       "2                       0.0  "
      ]
     },
     "execution_count": 29,
     "metadata": {},
     "output_type": "execute_result"
    }
   ],
   "source": [
    "transcript_df = transcript_clean.merge(profile_clean,how='inner',on=['user_id']).merge(\n",
    "    portfolio_clean,how='outer',on=['offer_id'])\n",
    "transcript_df.head(3)"
   ]
  },
  {
   "cell_type": "markdown",
   "metadata": {},
   "source": [
    "# CRISP-DM"
   ]
  },
  {
   "cell_type": "markdown",
   "metadata": {},
   "source": [
    "It is time to process our dataframe to extract useful statistics that can impact our business decisions.\n",
    "\n",
    "We would like to propose our customers the best possible offer so that they will be pleased to use it. Otherwise, repeated offers can create a negative impression. So, if we can understand the customer behaviour not only we improve our sales but also improve the customer satisfaction. This will also improve the use of our app, webpage and create brand loyalty."
   ]
  },
  {
   "cell_type": "markdown",
   "metadata": {},
   "source": [
    "Before going deeper into demographics, we can look into overall performance of our offers. One would expect lowering the difficulty or increasing the reward will end up with higher offer completion. Otherwise, company may need to redesign the offers or demographics for that offer. In order to check for the validity of this idea I am going to count the number of times each offer was sent out and ended up being completed."
   ]
  },
  {
   "cell_type": "code",
   "execution_count": 30,
   "metadata": {},
   "outputs": [],
   "source": [
    "transcript_received = transcript_clean[transcript_clean['event']=='offer received'].drop(columns=['amount','event'])\n",
    "transcript_viewed = transcript_clean[transcript_clean['event']=='offer viewed'].drop(columns=['amount','event'])\n",
    "transcript_completed = transcript_clean[transcript_clean['event']=='offer completed'].drop(columns=['amount','event'])\n",
    "transcript_transaction = transcript_clean[transcript_clean['event']=='transaction']"
   ]
  },
  {
   "cell_type": "markdown",
   "metadata": {},
   "source": [
    "### How is the offer distribution?"
   ]
  },
  {
   "cell_type": "code",
   "execution_count": 31,
   "metadata": {},
   "outputs": [
    {
     "data": {
      "text/plain": [
       "<BarContainer object of 10 artists>"
      ]
     },
     "execution_count": 31,
     "metadata": {},
     "output_type": "execute_result"
    },
    {
     "data": {
      "image/png": "[encoded data removed]",
      "text/plain": [
       "<Figure size 432x288 with 1 Axes>"
      ]
     },
     "metadata": {
      "needs_background": "light"
     },
     "output_type": "display_data"
    }
   ],
   "source": [
    "offer_receive_counts = transcript_received['offer_id'].value_counts().to_frame().reset_index().rename(columns={'offer_id':'receive_count','index':'offer_id'})\n",
    "offer_receive_counts=portfolio_clean.merge(offer_receive_counts,how='left',on=['offer_id'])#[['offer_id','receive_count']]\n",
    "plt.bar(range(10),offer_receive_counts['receive_count'])\n"
   ]
  },
  {
   "cell_type": "markdown",
   "metadata": {},
   "source": [
    "One can see that receive count's for each offer type is very balanced, a desirable property for our analysis."
   ]
  },
  {
   "cell_type": "markdown",
   "metadata": {},
   "source": [
    "### How well are the offer's viewed?"
   ]
  },
  {
   "cell_type": "code",
   "execution_count": 32,
   "metadata": {},
   "outputs": [],
   "source": [
    "offer_view_counts = transcript_viewed['offer_id'].value_counts().to_frame().reset_index().rename(columns={'offer_id':'view_count','index':'offer_id'})\n",
    "offer_view_counts=portfolio_clean.merge(offer_view_counts,how='left',on=['offer_id'])#[['offer_id','view_count','offer_type']]\n",
    "transcript_viewed.rename(columns={'time':'time_viewed'},inplace=True)\n"
   ]
  },
  {
   "cell_type": "code",
   "execution_count": 33,
   "metadata": {},
   "outputs": [
    {
     "data": {
      "image/png": "[encoded data removed]",
      "text/plain": [
       "<Figure size 1080x360 with 2 Axes>"
      ]
     },
     "metadata": {
      "needs_background": "light"
     },
     "output_type": "display_data"
    }
   ],
   "source": [
    "fig = plt.figure(figsize=(15,5))\n",
    "ax1 = fig.add_subplot(121)\n",
    "ax1.set_title('type vs views')\n",
    "ax1 = plt.bar(offer_view_counts.groupby(['offer_type'])['view_count'].mean().keys(), offer_view_counts.groupby(['offer_type'])['view_count'].mean().values)\n",
    "ax2 = fig.add_subplot(122)\n",
    "ax2.set_title('reward vs views')\n",
    "ax2= plt.bar(offer_view_counts.groupby(['offer_reward'])['view_count'].mean().keys(), offer_view_counts.groupby(['offer_reward'])['view_count'].mean().values)\n"
   ]
  },
  {
   "cell_type": "markdown",
   "metadata": {},
   "source": [
    "It can be seen that, on average, BOGO offers are viewed ~%20 more than others.\n",
    "\n",
    "Yet, when we compare it with reward value, we cannot conclude a direct correlation. "
   ]
  },
  {
   "cell_type": "markdown",
   "metadata": {},
   "source": [
    "### How well is an offer completed?"
   ]
  },
  {
   "cell_type": "markdown",
   "metadata": {},
   "source": [
    "##### Intentional and Nonintentional Completes\n",
    "Before doing any analysis, we should clarify couple points. \n",
    "\n",
    "As stated in the project definition, there are two different types of offer completes: Intentional and NonIntentional. \n",
    "\n",
    "Intentional completes are the ones where user received the offer, viewed it and completed it. On the other hand a user can complete an offer without even knowing about it. For this study I assume that the company loses money since the offer didn't attract the user for sale and offer doesn't create loyalty since the user is not aware of being rewarded. \n",
    "\n",
    "This might change if cashier offers the second drink in BOGO offers but for this study I stick with the data I received for the project"
   ]
  },
  {
   "cell_type": "markdown",
   "metadata": {},
   "source": [
    "##### Analysis\n",
    "To start with, we can look at the number total offer completes per offer.\n"
   ]
  },
  {
   "cell_type": "code",
   "execution_count": 34,
   "metadata": {},
   "outputs": [
    {
     "data": {
      "image/png": "[encoded data removed]",
      "text/plain": [
       "<Figure size 432x288 with 1 Axes>"
      ]
     },
     "metadata": {
      "needs_background": "light"
     },
     "output_type": "display_data"
    }
   ],
   "source": [
    "offer_complete_counts = transcript_completed['offer_id'].value_counts().to_frame().reset_index().rename(columns={'offer_id':'complete_count','index':'offer_id'})\n",
    "offer_complete_counts = portfolio_clean.merge(offer_complete_counts,how='left',on=['offer_id'])\n",
    "transcript_completed.rename(columns={'time':'time_completed'},inplace=True)\n",
    "ax1= plt.bar(offer_complete_counts.groupby(['offer_type'])['complete_count'].mean().keys(), offer_complete_counts.groupby(['offer_type'])['complete_count'].mean().values)\n"
   ]
  },
  {
   "cell_type": "markdown",
   "metadata": {},
   "source": [
    "Surprisingly, discount offers are completed slightly more even though bogo offers are viewed more. This is a signal that discount offers are completed nonintentionally.\n",
    "\n",
    "It is a good time to start working on the data to identify intentional completes."
   ]
  },
  {
   "cell_type": "markdown",
   "metadata": {},
   "source": [
    "In order to understand the timeline each received offer, we would like to calculate the beginning and end of each offer. In order to do so, we need to get the duration information from the portfolio dataframe. Let's merge them."
   ]
  },
  {
   "cell_type": "markdown",
   "metadata": {},
   "source": [
    "I would start with creating a dictionary that holds duration information for each offer id. I will apply this dictionary inside a lambda function to obtain the end date of an offer."
   ]
  },
  {
   "cell_type": "code",
   "execution_count": 35,
   "metadata": {},
   "outputs": [
    {
     "data": {
      "text/plain": [
       "{'ae264e3637204a6fb9bb56bc8210ddfd': 7,\n",
       " '4d5c57ea9a6940dd891ad53e9dbe8da0': 5,\n",
       " '3f207df678b143eea3cee63160fa8bed': 4,\n",
       " '9b98b8c7a33c4b65b9aebfe6a799e6d9': 7,\n",
       " '0b1e1539f2cc45b7b9fa7c272da2e1d7': 10,\n",
       " '2298d6c36e964ae4a3e7e9706d1fb8c2': 7,\n",
       " 'fafdcd668e3743c1bb461111dcafc2a4': 10,\n",
       " '5a8bc65990b245e5a138643cd4eb9837': 3,\n",
       " 'f19421c1d4aa40978ebb69ca19b0e20d': 5,\n",
       " '2906b810c7d4411798c6938adc9daaa5': 7}"
      ]
     },
     "execution_count": 35,
     "metadata": {},
     "output_type": "execute_result"
    }
   ],
   "source": [
    "duration_dictionary = dict()\n",
    "for offer in list(portfolio_clean['offer_id']):\n",
    "    duration_dictionary[offer]= portfolio_clean[portfolio_clean['offer_id']==offer]['duration'].values[0]\n",
    "duration_dictionary"
   ]
  },
  {
   "cell_type": "markdown",
   "metadata": {},
   "source": [
    "I will create a new column in transcript_received called \"end_time\" and rename the \"time\" as \"start_time\"."
   ]
  },
  {
   "cell_type": "code",
   "execution_count": 36,
   "metadata": {},
   "outputs": [
    {
     "data": {
      "text/html": [
       "<div>\n",
       "<style scoped>\n",
       "    .dataframe tbody tr th:only-of-type {\n",
       "        vertical-align: middle;\n",
       "    }\n",
       "\n",
       "    .dataframe tbody tr th {\n",
       "        vertical-align: top;\n",
       "    }\n",
       "\n",
       "    .dataframe thead th {\n",
       "        text-align: right;\n",
       "    }\n",
       "</style>\n",
       "<table border=\"1\" class=\"dataframe\">\n",
       "  <thead>\n",
       "    <tr style=\"text-align: right;\">\n",
       "      <th></th>\n",
       "      <th>user_id</th>\n",
       "      <th>start_time</th>\n",
       "      <th>offer_id</th>\n",
       "      <th>end_time</th>\n",
       "    </tr>\n",
       "  </thead>\n",
       "  <tbody>\n",
       "    <tr>\n",
       "      <th>0</th>\n",
       "      <td>78afa995795e4d85b5d9ceeca43f5fef</td>\n",
       "      <td>0</td>\n",
       "      <td>9b98b8c7a33c4b65b9aebfe6a799e6d9</td>\n",
       "      <td>0</td>\n",
       "    </tr>\n",
       "    <tr>\n",
       "      <th>1</th>\n",
       "      <td>a03223e636434f42ac4c3df47e8bac43</td>\n",
       "      <td>0</td>\n",
       "      <td>0b1e1539f2cc45b7b9fa7c272da2e1d7</td>\n",
       "      <td>0</td>\n",
       "    </tr>\n",
       "    <tr>\n",
       "      <th>2</th>\n",
       "      <td>e2127556f4f64592b11af22de27a7932</td>\n",
       "      <td>0</td>\n",
       "      <td>2906b810c7d4411798c6938adc9daaa5</td>\n",
       "      <td>0</td>\n",
       "    </tr>\n",
       "    <tr>\n",
       "      <th>3</th>\n",
       "      <td>8ec6ce2a7e7949b1bf142def7d0e0586</td>\n",
       "      <td>0</td>\n",
       "      <td>fafdcd668e3743c1bb461111dcafc2a4</td>\n",
       "      <td>0</td>\n",
       "    </tr>\n",
       "    <tr>\n",
       "      <th>4</th>\n",
       "      <td>68617ca6246f4fbc85e91a2a49552598</td>\n",
       "      <td>0</td>\n",
       "      <td>4d5c57ea9a6940dd891ad53e9dbe8da0</td>\n",
       "      <td>0</td>\n",
       "    </tr>\n",
       "  </tbody>\n",
       "</table>\n",
       "</div>"
      ],
      "text/plain": [
       "                            user_id  start_time  \\\n",
       "0  78afa995795e4d85b5d9ceeca43f5fef           0   \n",
       "1  a03223e636434f42ac4c3df47e8bac43           0   \n",
       "2  e2127556f4f64592b11af22de27a7932           0   \n",
       "3  8ec6ce2a7e7949b1bf142def7d0e0586           0   \n",
       "4  68617ca6246f4fbc85e91a2a49552598           0   \n",
       "\n",
       "                           offer_id  end_time  \n",
       "0  9b98b8c7a33c4b65b9aebfe6a799e6d9         0  \n",
       "1  0b1e1539f2cc45b7b9fa7c272da2e1d7         0  \n",
       "2  2906b810c7d4411798c6938adc9daaa5         0  \n",
       "3  fafdcd668e3743c1bb461111dcafc2a4         0  \n",
       "4  4d5c57ea9a6940dd891ad53e9dbe8da0         0  "
      ]
     },
     "execution_count": 36,
     "metadata": {},
     "output_type": "execute_result"
    }
   ],
   "source": [
    "transcript_received['end_time']=0\n",
    "transcript_received.rename(columns={'time':'start_time'},inplace=True)\n",
    "transcript_received.head()"
   ]
  },
  {
   "cell_type": "markdown",
   "metadata": {},
   "source": [
    "Apply a lambda function that calculates the end time based on offer duration. Note that start time is in hours and duration is in days. Therefore, we will multiply duration with 24 and add it on start_time after that."
   ]
  },
  {
   "cell_type": "code",
   "execution_count": 37,
   "metadata": {},
   "outputs": [
    {
     "data": {
      "text/html": [
       "<div>\n",
       "<style scoped>\n",
       "    .dataframe tbody tr th:only-of-type {\n",
       "        vertical-align: middle;\n",
       "    }\n",
       "\n",
       "    .dataframe tbody tr th {\n",
       "        vertical-align: top;\n",
       "    }\n",
       "\n",
       "    .dataframe thead th {\n",
       "        text-align: right;\n",
       "    }\n",
       "</style>\n",
       "<table border=\"1\" class=\"dataframe\">\n",
       "  <thead>\n",
       "    <tr style=\"text-align: right;\">\n",
       "      <th></th>\n",
       "      <th>user_id</th>\n",
       "      <th>start_time</th>\n",
       "      <th>offer_id</th>\n",
       "      <th>end_time</th>\n",
       "    </tr>\n",
       "  </thead>\n",
       "  <tbody>\n",
       "    <tr>\n",
       "      <th>0</th>\n",
       "      <td>78afa995795e4d85b5d9ceeca43f5fef</td>\n",
       "      <td>0</td>\n",
       "      <td>9b98b8c7a33c4b65b9aebfe6a799e6d9</td>\n",
       "      <td>168</td>\n",
       "    </tr>\n",
       "    <tr>\n",
       "      <th>1</th>\n",
       "      <td>a03223e636434f42ac4c3df47e8bac43</td>\n",
       "      <td>0</td>\n",
       "      <td>0b1e1539f2cc45b7b9fa7c272da2e1d7</td>\n",
       "      <td>240</td>\n",
       "    </tr>\n",
       "    <tr>\n",
       "      <th>2</th>\n",
       "      <td>e2127556f4f64592b11af22de27a7932</td>\n",
       "      <td>0</td>\n",
       "      <td>2906b810c7d4411798c6938adc9daaa5</td>\n",
       "      <td>168</td>\n",
       "    </tr>\n",
       "  </tbody>\n",
       "</table>\n",
       "</div>"
      ],
      "text/plain": [
       "                            user_id  start_time  \\\n",
       "0  78afa995795e4d85b5d9ceeca43f5fef           0   \n",
       "1  a03223e636434f42ac4c3df47e8bac43           0   \n",
       "2  e2127556f4f64592b11af22de27a7932           0   \n",
       "\n",
       "                           offer_id  end_time  \n",
       "0  9b98b8c7a33c4b65b9aebfe6a799e6d9       168  \n",
       "1  0b1e1539f2cc45b7b9fa7c272da2e1d7       240  \n",
       "2  2906b810c7d4411798c6938adc9daaa5       168  "
      ]
     },
     "execution_count": 37,
     "metadata": {},
     "output_type": "execute_result"
    }
   ],
   "source": [
    "transcript_received['end_time']=transcript_received.apply(\n",
    "    lambda x: duration_dictionary[x['offer_id']]*24 + x['start_time'],axis=1)\n",
    "transcript_received.head(3)"
   ]
  },
  {
   "cell_type": "markdown",
   "metadata": {},
   "source": [
    "Now that we have the start and end times for each offer, time to obtain which offer's are completed after user's viewed them. \n",
    "\n",
    "There are couple ways to handle this. One can simply go and order transcripts for each user with time. And trace the sequence using loops checking for receive view and complete conditions. \n",
    "\n",
    "I believe we can achieve the same result by combining transcript_received, transcript_viewed and transcript_completed dataframes based on user_id and offer_id. When we do such combine, we will have several challenges:\n",
    "\n",
    "1- It will create duplicate rows if a user received the offer more than once. \n",
    "\n",
    "We need to eliminate nonlogical receive view and complete combinations by simply checking if view and complete falls between start and end.\n",
    "\n",
    "2- If user haven't viewed or completed the offer it may be missing in the final table\n",
    "\n",
    "We will use outer combine to keep view and complete times as \"nan\" for such cases. \n",
    "\n",
    "3- User may have received the same offer_id multiple times before the first offer expires\n",
    "Based on data, I have seen such cases. For those, I will only assume one of the offers is completed and count the second incomplete.\n",
    "\n",
    "Since we are only looking for the intentional completes, we have strict conditions on order transcript frames. This makes it easier to identify intentional rows. If we were to also identify the nonintentional completes, this method fails since a user might view the offer after completion whereas that view might be coming from an offer with same id that is sent shortly after the completion of the first one. "
   ]
  },
  {
   "cell_type": "markdown",
   "metadata": {},
   "source": [
    "Dataframe creation:"
   ]
  },
  {
   "cell_type": "code",
   "execution_count": 38,
   "metadata": {},
   "outputs": [],
   "source": [
    "df_transcript = transcript_received.merge(\n",
    "    transcript_viewed,how='outer',on=['user_id','offer_id'],suffixes=('','_viewed')).merge(\n",
    "    transcript_completed,how='outer',on=['user_id','offer_id'],suffixes=('','_completed'))"
   ]
  },
  {
   "cell_type": "markdown",
   "metadata": {},
   "source": [
    "Intentional complete detection function:"
   ]
  },
  {
   "cell_type": "code",
   "execution_count": 39,
   "metadata": {},
   "outputs": [],
   "source": [
    "def transactions_intentional_complete(df,profile):\n",
    "    \n",
    "    output_df=pd.DataFrame()\n",
    "    user_list = profile['user_id'].unique()\n",
    "    \n",
    "    for user in tqdm(user_list):\n",
    "        temp_df = df[df['user_id']==user]\n",
    "        temp_df=temp_df[\n",
    "            (temp_df['end_time'] >= temp_df['time_completed']) &\n",
    "            (temp_df['time_completed'] >=temp_df['time_viewed']) & \n",
    "            (temp_df['time_viewed']>=temp_df['start_time'])].sort_values(\n",
    "                            by=['start_time','time_viewed','time_completed'])\n",
    "        \n",
    "        #We will first fill the initial offer even if same offer_ids are sent really close\n",
    "        temp_df.drop_duplicates(subset=['start_time'], inplace=True) \n",
    "        \n",
    "        temp_df.drop_duplicates(subset=['offer_id','time_completed'], inplace=True)\n",
    "        \n",
    "        output_df = output_df.append(temp_df)\n",
    "    return output_df"
   ]
  },
  {
   "cell_type": "code",
   "execution_count": 40,
   "metadata": {},
   "outputs": [],
   "source": [
    "#intentional_completes_df = transactions_intentional_complete(df_transcript,profile_clean)\n",
    "#intentional_completes_df.to_pickle(\"./intentional_completes.pkl\")"
   ]
  },
  {
   "cell_type": "code",
   "execution_count": 41,
   "metadata": {},
   "outputs": [],
   "source": [
    "intentional_completes_df = pd.read_pickle(\"./intentional_completes.pkl\")"
   ]
  },
  {
   "cell_type": "markdown",
   "metadata": {},
   "source": [
    "Now that we know obtained succesfully completed offers, we should also obtain the completed offers without intending to complete. Let's compare how many offers are completed and how many of them are completed with user information."
   ]
  },
  {
   "cell_type": "code",
   "execution_count": 42,
   "metadata": {},
   "outputs": [
    {
     "name": "stdout",
     "output_type": "stream",
     "text": [
      "33182 = 10649 + 22533\n"
     ]
    }
   ],
   "source": [
    "number_of_total_completes = transcript_completed.shape[0]\n",
    "number_of_intentional_completes = intentional_completes_df.shape[0]\n",
    "number_of_nonintentional_completes = number_of_total_completes-number_of_intentional_completes\n",
    "print(str(number_of_total_completes), '=' ,str(number_of_nonintentional_completes), '+',str(intentional_completes_df.shape[0]))\n"
   ]
  },
  {
   "cell_type": "markdown",
   "metadata": {},
   "source": [
    "As can be seen from these numbers, ~1/3 of the completed offers are not even viewed by the user on time. This means that Starbucks made offers to users who are already going to make the purchases. It is important to identify these users/demographics as well as the successfull ones and unsuccessful ones."
   ]
  },
  {
   "cell_type": "markdown",
   "metadata": {},
   "source": [
    "We can obtain the the transcripts for the nonintentional completes by removing the intentionals from the whole list."
   ]
  },
  {
   "cell_type": "code",
   "execution_count": 43,
   "metadata": {},
   "outputs": [],
   "source": [
    "temp_df = transcript_completed.merge(\n",
    "    intentional_completes_df,how='left',on=['offer_id','user_id','time_completed'])\n",
    "nonintentional_completes= temp_df[temp_df['start_time'].isnull()][['offer_id','user_id','time_completed']]"
   ]
  },
  {
   "cell_type": "markdown",
   "metadata": {},
   "source": [
    "Now that we obtained the information we have been looking for, we can start the analysis for completed offers:"
   ]
  },
  {
   "cell_type": "code",
   "execution_count": 44,
   "metadata": {},
   "outputs": [],
   "source": [
    "offer_receive_counts = transcript_received['offer_id'].value_counts().to_frame().reset_index().rename(columns={'offer_id':'receive_count','index':'offer_id'})\n",
    "offer_intentional_complete_counts = intentional_completes_df['offer_id'].value_counts().to_frame().reset_index().rename(columns={'offer_id':'intentional_completes','index':'offer_id'})\n",
    "offer_nonintentional_complete_counts = nonintentional_completes['offer_id'].value_counts().to_frame().reset_index().rename(columns={'offer_id':'nonintentional_completes','index':'offer_id'})\n"
   ]
  },
  {
   "cell_type": "code",
   "execution_count": 45,
   "metadata": {},
   "outputs": [
    {
     "data": {
      "text/html": [
       "<div>\n",
       "<style scoped>\n",
       "    .dataframe tbody tr th:only-of-type {\n",
       "        vertical-align: middle;\n",
       "    }\n",
       "\n",
       "    .dataframe tbody tr th {\n",
       "        vertical-align: top;\n",
       "    }\n",
       "\n",
       "    .dataframe thead th {\n",
       "        text-align: right;\n",
       "    }\n",
       "</style>\n",
       "<table border=\"1\" class=\"dataframe\">\n",
       "  <thead>\n",
       "    <tr style=\"text-align: right;\">\n",
       "      <th></th>\n",
       "      <th>offer_channels</th>\n",
       "      <th>offer_difficulty</th>\n",
       "      <th>duration</th>\n",
       "      <th>offer_id</th>\n",
       "      <th>offer_type</th>\n",
       "      <th>offer_reward</th>\n",
       "      <th>offer_type_bogo</th>\n",
       "      <th>offer_type_discount</th>\n",
       "      <th>offer_type_informational</th>\n",
       "      <th>receive_count</th>\n",
       "      <th>intentional_completes</th>\n",
       "      <th>nonintentional_completes</th>\n",
       "      <th>receive_intentional_complete_ratio</th>\n",
       "      <th>intentional/total completes</th>\n",
       "    </tr>\n",
       "  </thead>\n",
       "  <tbody>\n",
       "    <tr>\n",
       "      <th>0</th>\n",
       "      <td>[email, mobile, social]</td>\n",
       "      <td>10</td>\n",
       "      <td>7</td>\n",
       "      <td>ae264e3637204a6fb9bb56bc8210ddfd</td>\n",
       "      <td>bogo</td>\n",
       "      <td>10</td>\n",
       "      <td>1</td>\n",
       "      <td>0</td>\n",
       "      <td>0</td>\n",
       "      <td>7658</td>\n",
       "      <td>2585.0</td>\n",
       "      <td>1050.0</td>\n",
       "      <td>0.337555</td>\n",
       "      <td>0.711142</td>\n",
       "    </tr>\n",
       "    <tr>\n",
       "      <th>1</th>\n",
       "      <td>[web, email, mobile, social]</td>\n",
       "      <td>10</td>\n",
       "      <td>5</td>\n",
       "      <td>4d5c57ea9a6940dd891ad53e9dbe8da0</td>\n",
       "      <td>bogo</td>\n",
       "      <td>10</td>\n",
       "      <td>1</td>\n",
       "      <td>0</td>\n",
       "      <td>0</td>\n",
       "      <td>7593</td>\n",
       "      <td>2731.0</td>\n",
       "      <td>570.0</td>\n",
       "      <td>0.359673</td>\n",
       "      <td>0.827325</td>\n",
       "    </tr>\n",
       "    <tr>\n",
       "      <th>2</th>\n",
       "      <td>[web, email, mobile]</td>\n",
       "      <td>0</td>\n",
       "      <td>4</td>\n",
       "      <td>3f207df678b143eea3cee63160fa8bed</td>\n",
       "      <td>informational</td>\n",
       "      <td>0</td>\n",
       "      <td>0</td>\n",
       "      <td>0</td>\n",
       "      <td>1</td>\n",
       "      <td>7617</td>\n",
       "      <td>NaN</td>\n",
       "      <td>NaN</td>\n",
       "      <td>NaN</td>\n",
       "      <td>NaN</td>\n",
       "    </tr>\n",
       "    <tr>\n",
       "      <th>3</th>\n",
       "      <td>[web, email, mobile]</td>\n",
       "      <td>5</td>\n",
       "      <td>7</td>\n",
       "      <td>9b98b8c7a33c4b65b9aebfe6a799e6d9</td>\n",
       "      <td>bogo</td>\n",
       "      <td>5</td>\n",
       "      <td>1</td>\n",
       "      <td>0</td>\n",
       "      <td>0</td>\n",
       "      <td>7677</td>\n",
       "      <td>2037.0</td>\n",
       "      <td>2266.0</td>\n",
       "      <td>0.265338</td>\n",
       "      <td>0.473391</td>\n",
       "    </tr>\n",
       "    <tr>\n",
       "      <th>4</th>\n",
       "      <td>[web, email]</td>\n",
       "      <td>20</td>\n",
       "      <td>10</td>\n",
       "      <td>0b1e1539f2cc45b7b9fa7c272da2e1d7</td>\n",
       "      <td>discount</td>\n",
       "      <td>5</td>\n",
       "      <td>0</td>\n",
       "      <td>1</td>\n",
       "      <td>0</td>\n",
       "      <td>7668</td>\n",
       "      <td>1311.0</td>\n",
       "      <td>2029.0</td>\n",
       "      <td>0.170970</td>\n",
       "      <td>0.392515</td>\n",
       "    </tr>\n",
       "    <tr>\n",
       "      <th>5</th>\n",
       "      <td>[web, email, mobile, social]</td>\n",
       "      <td>7</td>\n",
       "      <td>7</td>\n",
       "      <td>2298d6c36e964ae4a3e7e9706d1fb8c2</td>\n",
       "      <td>discount</td>\n",
       "      <td>3</td>\n",
       "      <td>0</td>\n",
       "      <td>1</td>\n",
       "      <td>0</td>\n",
       "      <td>7646</td>\n",
       "      <td>4119.0</td>\n",
       "      <td>993.0</td>\n",
       "      <td>0.538713</td>\n",
       "      <td>0.805751</td>\n",
       "    </tr>\n",
       "    <tr>\n",
       "      <th>6</th>\n",
       "      <td>[web, email, mobile, social]</td>\n",
       "      <td>10</td>\n",
       "      <td>10</td>\n",
       "      <td>fafdcd668e3743c1bb461111dcafc2a4</td>\n",
       "      <td>discount</td>\n",
       "      <td>2</td>\n",
       "      <td>0</td>\n",
       "      <td>1</td>\n",
       "      <td>0</td>\n",
       "      <td>7597</td>\n",
       "      <td>4329.0</td>\n",
       "      <td>936.0</td>\n",
       "      <td>0.569830</td>\n",
       "      <td>0.822222</td>\n",
       "    </tr>\n",
       "    <tr>\n",
       "      <th>7</th>\n",
       "      <td>[email, mobile, social]</td>\n",
       "      <td>0</td>\n",
       "      <td>3</td>\n",
       "      <td>5a8bc65990b245e5a138643cd4eb9837</td>\n",
       "      <td>informational</td>\n",
       "      <td>0</td>\n",
       "      <td>0</td>\n",
       "      <td>0</td>\n",
       "      <td>1</td>\n",
       "      <td>7618</td>\n",
       "      <td>NaN</td>\n",
       "      <td>NaN</td>\n",
       "      <td>NaN</td>\n",
       "      <td>NaN</td>\n",
       "    </tr>\n",
       "    <tr>\n",
       "      <th>8</th>\n",
       "      <td>[web, email, mobile, social]</td>\n",
       "      <td>5</td>\n",
       "      <td>5</td>\n",
       "      <td>f19421c1d4aa40978ebb69ca19b0e20d</td>\n",
       "      <td>bogo</td>\n",
       "      <td>5</td>\n",
       "      <td>1</td>\n",
       "      <td>0</td>\n",
       "      <td>0</td>\n",
       "      <td>7571</td>\n",
       "      <td>3374.0</td>\n",
       "      <td>888.0</td>\n",
       "      <td>0.445648</td>\n",
       "      <td>0.791647</td>\n",
       "    </tr>\n",
       "    <tr>\n",
       "      <th>9</th>\n",
       "      <td>[web, email, mobile]</td>\n",
       "      <td>10</td>\n",
       "      <td>7</td>\n",
       "      <td>2906b810c7d4411798c6938adc9daaa5</td>\n",
       "      <td>discount</td>\n",
       "      <td>2</td>\n",
       "      <td>0</td>\n",
       "      <td>1</td>\n",
       "      <td>0</td>\n",
       "      <td>7632</td>\n",
       "      <td>2047.0</td>\n",
       "      <td>1917.0</td>\n",
       "      <td>0.268213</td>\n",
       "      <td>0.516398</td>\n",
       "    </tr>\n",
       "  </tbody>\n",
       "</table>\n",
       "</div>"
      ],
      "text/plain": [
       "                 offer_channels  offer_difficulty  duration  \\\n",
       "0       [email, mobile, social]                10         7   \n",
       "1  [web, email, mobile, social]                10         5   \n",
       "2          [web, email, mobile]                 0         4   \n",
       "3          [web, email, mobile]                 5         7   \n",
       "4                  [web, email]                20        10   \n",
       "5  [web, email, mobile, social]                 7         7   \n",
       "6  [web, email, mobile, social]                10        10   \n",
       "7       [email, mobile, social]                 0         3   \n",
       "8  [web, email, mobile, social]                 5         5   \n",
       "9          [web, email, mobile]                10         7   \n",
       "\n",
       "                           offer_id     offer_type  offer_reward  \\\n",
       "0  ae264e3637204a6fb9bb56bc8210ddfd           bogo            10   \n",
       "1  4d5c57ea9a6940dd891ad53e9dbe8da0           bogo            10   \n",
       "2  3f207df678b143eea3cee63160fa8bed  informational             0   \n",
       "3  9b98b8c7a33c4b65b9aebfe6a799e6d9           bogo             5   \n",
       "4  0b1e1539f2cc45b7b9fa7c272da2e1d7       discount             5   \n",
       "5  2298d6c36e964ae4a3e7e9706d1fb8c2       discount             3   \n",
       "6  fafdcd668e3743c1bb461111dcafc2a4       discount             2   \n",
       "7  5a8bc65990b245e5a138643cd4eb9837  informational             0   \n",
       "8  f19421c1d4aa40978ebb69ca19b0e20d           bogo             5   \n",
       "9  2906b810c7d4411798c6938adc9daaa5       discount             2   \n",
       "\n",
       "   offer_type_bogo  offer_type_discount  offer_type_informational  \\\n",
       "0                1                    0                         0   \n",
       "1                1                    0                         0   \n",
       "2                0                    0                         1   \n",
       "3                1                    0                         0   \n",
       "4                0                    1                         0   \n",
       "5                0                    1                         0   \n",
       "6                0                    1                         0   \n",
       "7                0                    0                         1   \n",
       "8                1                    0                         0   \n",
       "9                0                    1                         0   \n",
       "\n",
       "   receive_count  intentional_completes  nonintentional_completes  \\\n",
       "0           7658                 2585.0                    1050.0   \n",
       "1           7593                 2731.0                     570.0   \n",
       "2           7617                    NaN                       NaN   \n",
       "3           7677                 2037.0                    2266.0   \n",
       "4           7668                 1311.0                    2029.0   \n",
       "5           7646                 4119.0                     993.0   \n",
       "6           7597                 4329.0                     936.0   \n",
       "7           7618                    NaN                       NaN   \n",
       "8           7571                 3374.0                     888.0   \n",
       "9           7632                 2047.0                    1917.0   \n",
       "\n",
       "   receive_intentional_complete_ratio  intentional/total completes  \n",
       "0                            0.337555                     0.711142  \n",
       "1                            0.359673                     0.827325  \n",
       "2                                 NaN                          NaN  \n",
       "3                            0.265338                     0.473391  \n",
       "4                            0.170970                     0.392515  \n",
       "5                            0.538713                     0.805751  \n",
       "6                            0.569830                     0.822222  \n",
       "7                                 NaN                          NaN  \n",
       "8                            0.445648                     0.791647  \n",
       "9                            0.268213                     0.516398  "
      ]
     },
     "execution_count": 45,
     "metadata": {},
     "output_type": "execute_result"
    }
   ],
   "source": [
    "portfolio_counts = portfolio_clean.merge(offer_receive_counts,how='left',on=['offer_id']).merge(\n",
    "    offer_intentional_complete_counts,how='left',on=['offer_id']).merge(\n",
    "    offer_nonintentional_complete_counts,how='left',on=['offer_id'])\n",
    "portfolio_counts['receive_intentional_complete_ratio']=portfolio_counts['intentional_completes']/portfolio_counts['receive_count']\n",
    "portfolio_counts['intentional/total completes']= portfolio_counts['intentional_completes'] / (\n",
    "    portfolio_counts['nonintentional_completes']+ portfolio_counts['intentional_completes'])\n",
    "portfolio_counts"
   ]
  },
  {
   "cell_type": "markdown",
   "metadata": {},
   "source": [
    "Looking and the ratio of intentional and non-intentional completes we see '0b1e1539f2cc45b7b9fa7c272da2e1d7' is performing really low, being followed by '9b98b8c7a33c4b65b9aebfe6a799e6d9' and '2906b810c7d4411798c6938adc9daaa5'. \n",
    "\n",
    "In two of these offers, users are receiving discounts on their purchases without knowing about it. "
   ]
  },
  {
   "cell_type": "code",
   "execution_count": 46,
   "metadata": {},
   "outputs": [
    {
     "name": "stderr",
     "output_type": "stream",
     "text": [
      "/anaconda3/lib/python3.6/site-packages/matplotlib/figure.py:98: MatplotlibDeprecationWarning: \n",
      "Adding an axes using the same arguments as a previous axes currently reuses the earlier instance.  In a future version, a new instance will always be created and returned.  Meanwhile, this warning can be suppressed, and the future behavior ensured, by passing a unique label to each axes instance.\n",
      "  \"Adding an axes using the same arguments as a previous axes \"\n"
     ]
    },
    {
     "data": {
      "image/png": "[encoded data removed]",
      "text/plain": [
       "<Figure size 432x288 with 1 Axes>"
      ]
     },
     "metadata": {
      "needs_background": "light"
     },
     "output_type": "display_data"
    },
    {
     "data": {
      "image/png": "[encoded data removed]",
      "text/plain": [
       "<Figure size 432x288 with 1 Axes>"
      ]
     },
     "metadata": {
      "needs_background": "light"
     },
     "output_type": "display_data"
    }
   ],
   "source": [
    "ax1 = fig.add_subplot(121)\n",
    "ax1 = portfolio_counts.plot.scatter(x='offer_difficulty',y='receive_intentional_complete_ratio')\n",
    "ax2 = fig.add_subplot(122)\n",
    "ax2 = portfolio_counts.plot.scatter(x='offer_reward',y='receive_intentional_complete_ratio')\n",
    "#threedee = plt.figure().gca(projection='3d')\n",
    "#threedee.scatter(portfolio_counts['receive_intentional_complete_ratio'], portfolio_counts['offer_difficulty'], portfolio_counts['offer_reward'])\n",
    "#threedee.set_xlabel('Ratio')\n",
    "#threedee.set_ylabel('Difficulty')\n",
    "#threedee.set_zlabel('Reward')\n",
    "#plt.show()"
   ]
  },
  {
   "cell_type": "markdown",
   "metadata": {},
   "source": [
    "In the first plot we see the outlier point where the difficulty=20. Completion rate is really low for this offer and it is expected. \n",
    "However when we look at the rest of the plot, it is hard to come to a conclusion between offer difficulty and completion rate.\n",
    "Similarly when we look at the reward plot, it is very hard to see a clear trend.\n",
    "\n",
    "But I can see that we receive a wide range of completion rates for same reward and difficulty levels. This can be due the duration, channels or nature of the offer. However, it is a good idea to calibrate both difficulty and reward metrics considering these results so that a correlation can be made."
   ]
  },
  {
   "cell_type": "markdown",
   "metadata": {},
   "source": [
    "When we compare the intentional completes for discount offers with bogo offers:"
   ]
  },
  {
   "cell_type": "code",
   "execution_count": 47,
   "metadata": {},
   "outputs": [
    {
     "data": {
      "text/plain": [
       "<BarContainer object of 10 artists>"
      ]
     },
     "execution_count": 47,
     "metadata": {},
     "output_type": "execute_result"
    },
    {
     "data": {
      "image/png": "[encoded data removed]",
      "text/plain": [
       "<Figure size 432x288 with 1 Axes>"
      ]
     },
     "metadata": {
      "needs_background": "light"
     },
     "output_type": "display_data"
    }
   ],
   "source": [
    "plt.bar(portfolio_counts['offer_type'],portfolio_counts['receive_intentional_complete_ratio'])"
   ]
  },
  {
   "cell_type": "markdown",
   "metadata": {},
   "source": [
    "Let's have a deeper look into demographics. First, let's see if any gender responds to offers better. "
   ]
  },
  {
   "cell_type": "markdown",
   "metadata": {},
   "source": [
    "## Which demographic responds better? Whic offers are popular?"
   ]
  },
  {
   "cell_type": "code",
   "execution_count": 48,
   "metadata": {},
   "outputs": [],
   "source": [
    "#intentional_completes_df['gender'].value_counts()/transcript_received['gender'].value_counts()\n",
    "intentional_completes_df = intentional_completes_df.merge(\n",
    "    profile_clean,on=['user_id'],how='left').merge(\n",
    "    portfolio_clean,on=['offer_id'],how='left')"
   ]
  },
  {
   "cell_type": "code",
   "execution_count": 49,
   "metadata": {},
   "outputs": [
    {
     "data": {
      "text/plain": [
       "<BarContainer object of 3 artists>"
      ]
     },
     "execution_count": 49,
     "metadata": {},
     "output_type": "execute_result"
    },
    {
     "data": {
      "image/png": "[encoded data removed]",
      "text/plain": [
       "<Figure size 432x288 with 1 Axes>"
      ]
     },
     "metadata": {
      "needs_background": "light"
     },
     "output_type": "display_data"
    }
   ],
   "source": [
    "plt.bar(intentional_completes_df['user_gender'].value_counts().keys(),\n",
    "        intentional_completes_df['user_gender'].value_counts().values)"
   ]
  },
  {
   "cell_type": "markdown",
   "metadata": {},
   "source": [
    "There is a slight "
   ]
  },
  {
   "cell_type": "code",
   "execution_count": 50,
   "metadata": {},
   "outputs": [
    {
     "data": {
      "text/plain": [
       "<BarContainer object of 84 artists>"
      ]
     },
     "execution_count": 50,
     "metadata": {},
     "output_type": "execute_result"
    },
    {
     "data": {
      "image/png": "[encoded data removed]",
      "text/plain": [
       "<Figure size 432x288 with 1 Axes>"
      ]
     },
     "metadata": {
      "needs_background": "light"
     },
     "output_type": "display_data"
    }
   ],
   "source": [
    "intent_demog_total = intentional_completes_df.groupby(by=['user_gender','user_age'])['user_id'].size().unstack().transpose()\n",
    "plt.bar(intent_demog_total['M'].keys(),intent_demog_total['M'].values)\n",
    "plt.bar(intent_demog_total['F'].keys(),intent_demog_total['F'].values,bottom=intent_demog_total['M'].values)\n",
    "plt.bar(intent_demog_total['O'].keys(),intent_demog_total['O'].values,bottom=intent_demog_total['M'].values+intent_demog_total['F'].values)\n"
   ]
  },
  {
   "cell_type": "markdown",
   "metadata": {},
   "source": [
    "This is distribution of total completes and looks like we get the most completes coming from ages between 50-60"
   ]
  },
  {
   "cell_type": "code",
   "execution_count": 51,
   "metadata": {},
   "outputs": [
    {
     "data": {
      "text/html": [
       "<div>\n",
       "<style scoped>\n",
       "    .dataframe tbody tr th:only-of-type {\n",
       "        vertical-align: middle;\n",
       "    }\n",
       "\n",
       "    .dataframe tbody tr th {\n",
       "        vertical-align: top;\n",
       "    }\n",
       "\n",
       "    .dataframe thead th {\n",
       "        text-align: right;\n",
       "    }\n",
       "</style>\n",
       "<table border=\"1\" class=\"dataframe\">\n",
       "  <thead>\n",
       "    <tr style=\"text-align: right;\">\n",
       "      <th>user_gender</th>\n",
       "      <th>F</th>\n",
       "      <th>M</th>\n",
       "      <th>O</th>\n",
       "    </tr>\n",
       "    <tr>\n",
       "      <th>user_age</th>\n",
       "      <th></th>\n",
       "      <th></th>\n",
       "      <th></th>\n",
       "    </tr>\n",
       "  </thead>\n",
       "  <tbody>\n",
       "    <tr>\n",
       "      <th>49.0</th>\n",
       "      <td>249.0</td>\n",
       "      <td>237.0</td>\n",
       "      <td>18.0</td>\n",
       "    </tr>\n",
       "    <tr>\n",
       "      <th>58.0</th>\n",
       "      <td>332.0</td>\n",
       "      <td>322.0</td>\n",
       "      <td>13.0</td>\n",
       "    </tr>\n",
       "  </tbody>\n",
       "</table>\n",
       "</div>"
      ],
      "text/plain": [
       "user_gender      F      M     O\n",
       "user_age                       \n",
       "49.0         249.0  237.0  18.0\n",
       "58.0         332.0  322.0  13.0"
      ]
     },
     "execution_count": 51,
     "metadata": {},
     "output_type": "execute_result"
    }
   ],
   "source": [
    "intent_demog_total[(\n",
    "    intent_demog_total['M']==intent_demog_total['M'].max()\n",
    ")|(\n",
    "    intent_demog_total['F']==intent_demog_total['F'].max()\n",
    ")|(\n",
    "    intent_demog_total['O']==intent_demog_total['O'].max()\n",
    ")]"
   ]
  },
  {
   "cell_type": "markdown",
   "metadata": {},
   "source": [
    "O yas grubundaki average kisi sayisi dikkate alinip normalize edilmeli her gender icin\n",
    "O yas grubundaki unique kisi sayisina bakilmali."
   ]
  },
  {
   "cell_type": "code",
   "execution_count": 52,
   "metadata": {},
   "outputs": [
    {
     "data": {
      "text/plain": [
       "<BarContainer object of 84 artists>"
      ]
     },
     "execution_count": 52,
     "metadata": {},
     "output_type": "execute_result"
    },
    {
     "data": {
      "image/png": "[encoded data removed]",
      "text/plain": [
       "<Figure size 432x288 with 1 Axes>"
      ]
     },
     "metadata": {
      "needs_background": "light"
     },
     "output_type": "display_data"
    }
   ],
   "source": [
    "intent_demog_unique=intentional_completes_df.groupby(by=['user_gender','user_age'])['user_id'].nunique().unstack().transpose()\n",
    "plt.bar(intent_demog_unique['M'].keys(),intent_demog_unique['M'].values)\n",
    "plt.bar(intent_demog_unique['F'].keys(),intent_demog_unique['F'].values,bottom=intent_demog_unique['M'].values)\n",
    "plt.bar(intent_demog_unique['O'].keys(),intent_demog_unique['O'].values,bottom=intent_demog_unique['M'].values+intent_demog_unique['F'].values)\n"
   ]
  },
  {
   "cell_type": "code",
   "execution_count": 53,
   "metadata": {},
   "outputs": [
    {
     "data": {
      "text/html": [
       "<div>\n",
       "<style scoped>\n",
       "    .dataframe tbody tr th:only-of-type {\n",
       "        vertical-align: middle;\n",
       "    }\n",
       "\n",
       "    .dataframe tbody tr th {\n",
       "        vertical-align: top;\n",
       "    }\n",
       "\n",
       "    .dataframe thead th {\n",
       "        text-align: right;\n",
       "    }\n",
       "</style>\n",
       "<table border=\"1\" class=\"dataframe\">\n",
       "  <thead>\n",
       "    <tr style=\"text-align: right;\">\n",
       "      <th>user_gender</th>\n",
       "      <th>F</th>\n",
       "      <th>M</th>\n",
       "      <th>O</th>\n",
       "    </tr>\n",
       "    <tr>\n",
       "      <th>user_age</th>\n",
       "      <th></th>\n",
       "      <th></th>\n",
       "      <th></th>\n",
       "    </tr>\n",
       "  </thead>\n",
       "  <tbody>\n",
       "    <tr>\n",
       "      <th>49.0</th>\n",
       "      <td>111.0</td>\n",
       "      <td>120.0</td>\n",
       "      <td>8.0</td>\n",
       "    </tr>\n",
       "    <tr>\n",
       "      <th>58.0</th>\n",
       "      <td>153.0</td>\n",
       "      <td>159.0</td>\n",
       "      <td>5.0</td>\n",
       "    </tr>\n",
       "  </tbody>\n",
       "</table>\n",
       "</div>"
      ],
      "text/plain": [
       "user_gender      F      M    O\n",
       "user_age                      \n",
       "49.0         111.0  120.0  8.0\n",
       "58.0         153.0  159.0  5.0"
      ]
     },
     "execution_count": 53,
     "metadata": {},
     "output_type": "execute_result"
    }
   ],
   "source": [
    "intent_demog_unique[(\n",
    "    intent_demog_unique['M']==intent_demog_unique['M'].max()\n",
    ")|(\n",
    "    intent_demog_unique['F']==intent_demog_unique['F'].max()\n",
    ")|(\n",
    "    intent_demog_unique['O']==intent_demog_unique['O'].max()\n",
    ")]"
   ]
  },
  {
   "cell_type": "markdown",
   "metadata": {},
   "source": [
    "We can see that both total number of unique users and total number of intentional completes come from the same age for both male and female which is 58. For customers who identified themselves in other group, this age is 49.\n",
    "\n",
    "However, these results are biased because the our number of users vary with age as well. \n",
    "\n",
    "We can apply normalization by calculating the per user for each age and sex."
   ]
  },
  {
   "cell_type": "code",
   "execution_count": 54,
   "metadata": {},
   "outputs": [
    {
     "data": {
      "text/plain": [
       "<BarContainer object of 84 artists>"
      ]
     },
     "execution_count": 54,
     "metadata": {},
     "output_type": "execute_result"
    },
    {
     "data": {
      "image/png": "[encoded data removed]",
      "text/plain": [
       "<Figure size 432x288 with 1 Axes>"
      ]
     },
     "metadata": {
      "needs_background": "light"
     },
     "output_type": "display_data"
    }
   ],
   "source": [
    "#intent_demog_total = intentional_completes_df.groupby(by=['user_gender','user_age'])['user_id'].size().unstack().transpose()\n",
    "intent_demog_avg = intent_demog_unique/profile_distribution\n",
    "plt.bar(intent_demog_avg['M'].keys(),intent_demog_avg['M'].values)\n",
    "plt.bar(intent_demog_avg['F'].keys(),intent_demog_avg['F'].values,bottom=intent_demog_avg['M'].values)\n",
    "plt.bar(intent_demog_avg['O'].keys(),intent_demog_avg['O'].values,bottom=intent_demog_avg['M'].values+intent_demog_avg['F'].values)\n"
   ]
  },
  {
   "cell_type": "markdown",
   "metadata": {},
   "source": [
    "When we normalize the number of unique completers with total number of customers for that age and sex, we can say that there is no clear result."
   ]
  },
  {
   "cell_type": "markdown",
   "metadata": {},
   "source": [
    "What if we normalize each group with total number of offers received for that group? "
   ]
  },
  {
   "cell_type": "markdown",
   "metadata": {},
   "source": [
    "We need to calculate the number of received's for each group first."
   ]
  },
  {
   "cell_type": "code",
   "execution_count": 55,
   "metadata": {},
   "outputs": [
    {
     "data": {
      "text/plain": [
       "<BarContainer object of 84 artists>"
      ]
     },
     "execution_count": 55,
     "metadata": {},
     "output_type": "execute_result"
    },
    {
     "data": {
      "image/png": "[encoded data removed]",
      "text/plain": [
       "<Figure size 432x288 with 1 Axes>"
      ]
     },
     "metadata": {
      "needs_background": "light"
     },
     "output_type": "display_data"
    }
   ],
   "source": [
    "received_demog_total = transcript_received.merge(profile_clean,on=['user_id'],how='left').groupby(\n",
    "    by=['user_gender','user_age'])['user_id'].size().unstack().transpose()\n",
    "\n",
    "plt.bar(received_demog_total['M'].keys(),received_demog_total['M'].values)\n",
    "plt.bar(received_demog_total['F'].keys(),received_demog_total['F'].values,bottom=received_demog_total['M'].values)\n",
    "plt.bar(received_demog_total['O'].keys(),received_demog_total['O'].values,bottom=received_demog_total['M'].values+received_demog_total['F'].values)"
   ]
  },
  {
   "cell_type": "code",
   "execution_count": 56,
   "metadata": {},
   "outputs": [
    {
     "data": {
      "text/plain": [
       "<BarContainer object of 84 artists>"
      ]
     },
     "execution_count": 56,
     "metadata": {},
     "output_type": "execute_result"
    },
    {
     "data": {
      "image/png": "[encoded data removed]",
      "text/plain": [
       "<Figure size 432x288 with 1 Axes>"
      ]
     },
     "metadata": {
      "needs_background": "light"
     },
     "output_type": "display_data"
    }
   ],
   "source": [
    "#intent_demog_total = intentional_completes_df.groupby(by=['user_gender','user_age'])['user_id'].size().unstack().transpose()\n",
    "intent_demog_avg = intent_demog_total/received_demog_total\n",
    "plt.bar(intent_demog_avg['M'].keys(),intent_demog_avg['M'].values)\n",
    "plt.bar(intent_demog_avg['F'].keys(),intent_demog_avg['F'].values,bottom=intent_demog_avg['M'].values)\n",
    "plt.bar(intent_demog_avg['O'].keys(),intent_demog_avg['O'].values,bottom=intent_demog_avg['M'].values+intent_demog_avg['F'].values)\n"
   ]
  },
  {
   "cell_type": "markdown",
   "metadata": {},
   "source": [
    "We still do not get a clear iamge on which age and sex group responds to the offers better than others. We can ignore age 99 and 100 due it's very low percentage in customer database."
   ]
  },
  {
   "cell_type": "markdown",
   "metadata": {},
   "source": [
    "Let's try to see if we can see a pattern for each offer."
   ]
  },
  {
   "cell_type": "code",
   "execution_count": 135,
   "metadata": {},
   "outputs": [
    {
     "data": {
      "image/png": "[encoded data removed]",
      "text/plain": [
       "<Figure size 2160x2160 with 24 Axes>"
      ]
     },
     "metadata": {
      "needs_background": "light"
     },
     "output_type": "display_data"
    }
   ],
   "source": [
    "intent_demog_total_by_offer = intentional_completes_df.groupby(by=['user_gender','user_age','offer_id'])['user_id'].nunique().unstack()\n",
    "received_demog_total_by_offer = transcript_received.merge(profile_clean,on=['user_id'],how='left').groupby(\n",
    "    by=['user_gender','user_age','offer_id'])['user_id'].nunique().unstack()\n",
    "\n",
    "i=0\n",
    "plt.figure(figsize=(30,30))\n",
    "for offer in completed_offer_ids:\n",
    "    i = i+1\n",
    "    ax = plt.subplot(plt.subplot(8, 3, i))\n",
    "    plt.ylim(0,1)\n",
    "    temp = intent_demog_total_by_offer[offer].transpose()/received_demog_total_by_offer[offer].transpose()\n",
    "    ax=plt.bar(temp['M'].keys(),temp['M'].values)\n",
    "    i = i+1\n",
    "    ax = plt.subplot(plt.subplot(8, 3, i))\n",
    "    plt.ylim(0,1)\n",
    "    ax=plt.bar(temp['F'].keys(),teåmp['F'].values)\n",
    "    i = i+1\n",
    "    ax = plt.subplot(plt.subplot(8, 3, i))\n",
    "    plt.ylim(0,1)\n",
    "    ax=plt.bar(temp['O'].keys(),temp['O'].values)\n",
    "    "
   ]
  },
  {
   "cell_type": "code",
   "execution_count": 133,
   "metadata": {
    "scrolled": true
   },
   "outputs": [
    {
     "name": "stdout",
     "output_type": "stream",
     "text": [
      "offer id:  2906b810c7d4411798c6938adc9daaa5 \n",
      " Average Male Intentional Completers:  0.30897213248208505 \n",
      " Average Female Intentional Completers:  0.3718349940583731 \n",
      " Average Other Intentional Completers:  0.7643678160919539 \n",
      "\n",
      "offer id:  fafdcd668e3743c1bb461111dcafc2a4 \n",
      " Average Male Intentional Completers:  0.6388472807731254 \n",
      " Average Female Intentional Completers:  0.7473835374461621 \n",
      " Average Other Intentional Completers:  0.8499999999999999 \n",
      "\n",
      "offer id:  9b98b8c7a33c4b65b9aebfe6a799e6d9 \n",
      " Average Male Intentional Completers:  0.31921390547308776 \n",
      " Average Female Intentional Completers:  0.38368645249147193 \n",
      " Average Other Intentional Completers:  0.7870748299319728 \n",
      "\n",
      "offer id:  ae264e3637204a6fb9bb56bc8210ddfd \n",
      " Average Male Intentional Completers:  0.36802776838002615 \n",
      " Average Female Intentional Completers:  0.5060550138725545 \n",
      " Average Other Intentional Completers:  0.6954022988505746 \n",
      "\n",
      "offer id:  4d5c57ea9a6940dd891ad53e9dbe8da0 \n",
      " Average Male Intentional Completers:  0.3623603882489456 \n",
      " Average Female Intentional Completers:  0.5603723648190874 \n",
      " Average Other Intentional Completers:  0.8396551724137932 \n",
      "\n",
      "offer id:  2298d6c36e964ae4a3e7e9706d1fb8c2 \n",
      " Average Male Intentional Completers:  0.6343660246421072 \n",
      " Average Female Intentional Completers:  0.6996372506014618 \n",
      " Average Other Intentional Completers:  0.8382352941176471 \n",
      "\n",
      "offer id:  f19421c1d4aa40978ebb69ca19b0e20d \n",
      " Average Male Intentional Completers:  0.5236951778103842 \n",
      " Average Female Intentional Completers:  0.6224878044286551 \n",
      " Average Other Intentional Completers:  0.8773148148148147 \n",
      "\n",
      "offer id:  0b1e1539f2cc45b7b9fa7c272da2e1d7 \n",
      " Average Male Intentional Completers:  0.2000035343515801 \n",
      " Average Female Intentional Completers:  0.252251457373023 \n",
      " Average Other Intentional Completers:  0.6698717948717948 \n",
      "\n"
     ]
    }
   ],
   "source": [
    "intent_demog_total_by_offer = intentional_completes_df.groupby(by=['user_gender','user_age','offer_id'])['user_id'].nunique().unstack()\n",
    "received_demog_total_by_offer = transcript_received.merge(profile_clean,on=['user_id'],how='left').groupby(\n",
    "    by=['user_gender','user_age','offer_id'])['user_id'].nunique().unstack()\n",
    "\n",
    "i=0\n",
    "for offer in completed_offer_ids:\n",
    "    temp = intent_demog_total_by_offer[offer].transpose()/received_demog_total_by_offer[offer].transpose()\n",
    "    print('offer id: ', offer, '\\n' ,\n",
    "          'Average Male Intentional Completers: ', np.nanmean(temp['M'].values),'\\n',\n",
    "          'Average Female Intentional Completers: ',np.nanmean(temp['F'].values),'\\n',\n",
    "          'Average Other Intentional Completers: ',np.nanmean(temp['O'].values),'\\n')\n"
   ]
  },
  {
   "cell_type": "code",
   "execution_count": 151,
   "metadata": {},
   "outputs": [],
   "source": [
    "completed_offer_types = intentional_completes_df['offer_type'].unique()"
   ]
  },
  {
   "cell_type": "code",
   "execution_count": 99,
   "metadata": {
    "scrolled": true
   },
   "outputs": [
    {
     "data": {
      "image/png": "[encoded data removed]",
      "text/plain": [
       "<Figure size 2160x2160 with 6 Axes>"
      ]
     },
     "metadata": {
      "needs_background": "light"
     },
     "output_type": "display_data"
    }
   ],
   "source": [
    "intent_demog_total_by_type = intentional_completes_df.groupby(by=['user_gender','user_age','offer_type'])['user_id'].nunique().unstack()\n",
    "received_demog_total_by_type = transcript_received.merge(profile_clean,on=['user_id'],how='left').merge(\n",
    "    portfolio_clean,on=['offer_id'],how='left').groupby(\n",
    "    by=['user_gender','user_age','offer_type'])['user_id'].nunique().unstack()\n",
    "\n",
    "i=0\n",
    "plt.figure(figsize=(30,30))\n",
    "for offer in completed_offer_types:\n",
    "    i = i+1\n",
    "    ax = plt.subplot(plt.subplot(2, 3, i))\n",
    "    temp = intent_demog_total_by_type[offer].transpose()/received_demog_total_by_type[offer].transpose()\n",
    "    ax=plt.bar(temp['M'].keys(),temp['M'].values)\n",
    "    i = i+1\n",
    "    ax = plt.subplot(plt.subplot(2, 3, i))\n",
    "    ax=plt.bar(temp['F'].keys(),temp['F'].values)\n",
    "    i = i+1\n",
    "    ax = plt.subplot(plt.subplot(2, 3, i))\n",
    "    ax=plt.bar(temp['O'].keys(),temp['O'].values)"
   ]
  },
  {
   "cell_type": "markdown",
   "metadata": {},
   "source": [
    "## Comments:"
   ]
  },
  {
   "cell_type": "markdown",
   "metadata": {},
   "source": [
    "**1-** Ages above 90 are outliers for all plots. This is most probably due biased data points for very low number of customers.\n",
    "\n",
    "**2-** If we only look at the plots, we cna say that consumers who identified themselves in nonbinary gender tend to complete offers with a higher rate. However this result is very biased due the low number of users we analyzed for that demographic group. It requires further investigation with more data points\n",
    "\n",
    "**3-** Among the ones who received the offer, more female customers completed 'bogo' offers compared to male. This behaviour is very significant for females aged between 18-30. \n",
    "\n",
    "**4-** Among the ones who received the offer, slightly more female customers completed 'discount' offers compared to male customers. \n",
    "\n",
    "**5-** Male customers between ages 20-40 has the least succesful number of unique users to complete the discount offers. On average, less than half users who received an offer completed it.\n",
    "\n",
    "**6-** Offer '0b1e1539f2cc45b7b9fa7c272da2e1d7' has significantly less completion compared to other offers. This is the hardest offer and intentional completes average around %20 both for male and female customers.\n",
    "\n",
    "**7-** Offer 'fafdcd668e3743c1bb461111dcafc2a4' has the highest completion rate both for female and male customers. 3/4 of female customers who received this offer, completed it at least once."
   ]
  },
  {
   "cell_type": "markdown",
   "metadata": {},
   "source": [
    "## What is demographics for nonintentional completes?"
   ]
  },
  {
   "cell_type": "markdown",
   "metadata": {},
   "source": [
    "We would like to do a similar analysis for nonintentional completes. If we can identify a specific demographic, we can save money."
   ]
  },
  {
   "cell_type": "code",
   "execution_count": 137,
   "metadata": {},
   "outputs": [],
   "source": [
    "nonintentional_completes_df = nonintentional_completes.merge(\n",
    "    profile_clean,on=['user_id'],how='left').merge(\n",
    "    portfolio_clean,on=['offer_id'],how='left')"
   ]
  },
  {
   "cell_type": "code",
   "execution_count": 138,
   "metadata": {},
   "outputs": [
    {
     "data": {
      "text/plain": [
       "<BarContainer object of 3 artists>"
      ]
     },
     "execution_count": 138,
     "metadata": {},
     "output_type": "execute_result"
    },
    {
     "data": {
      "image/png": "[encoded data removed]",
      "text/plain": [
       "<Figure size 432x288 with 1 Axes>"
      ]
     },
     "metadata": {
      "needs_background": "light"
     },
     "output_type": "display_data"
    }
   ],
   "source": [
    "plt.bar(nonintentional_completes_df['user_gender'].value_counts().keys(),\n",
    "        nonintentional_completes_df['user_gender'].value_counts().values)"
   ]
  },
  {
   "cell_type": "code",
   "execution_count": 140,
   "metadata": {},
   "outputs": [
    {
     "data": {
      "text/plain": [
       "<BarContainer object of 84 artists>"
      ]
     },
     "execution_count": 140,
     "metadata": {},
     "output_type": "execute_result"
    },
    {
     "data": {
      "image/png": "[encoded data removed]",
      "text/plain": [
       "<Figure size 432x288 with 1 Axes>"
      ]
     },
     "metadata": {
      "needs_background": "light"
     },
     "output_type": "display_data"
    }
   ],
   "source": [
    "nonintent_demog_total = nonintentional_completes_df.groupby(by=['user_gender','user_age'])['user_id'].nunique().unstack().transpose()\n",
    "plt.bar(nonintent_demog_total['M'].keys(),nonintent_demog_total['M'].values)\n",
    "plt.bar(nonintent_demog_total['F'].keys(),nonintent_demog_total['F'].values,bottom=nonintent_demog_total['M'].values)\n",
    "plt.bar(nonintent_demog_total['O'].keys(),nonintent_demog_total['O'].values,bottom=nonintent_demog_total['M'].values+nonintent_demog_total['F'].values)"
   ]
  },
  {
   "cell_type": "code",
   "execution_count": 145,
   "metadata": {},
   "outputs": [],
   "source": [
    "received_demog_total = transcript_received.merge(profile_clean,on=['user_id'],how='left').groupby(\n",
    "    by=['user_gender','user_age'])['user_id'].size().unstack().transpose()"
   ]
  },
  {
   "cell_type": "code",
   "execution_count": 147,
   "metadata": {},
   "outputs": [
    {
     "data": {
      "text/plain": [
       "<BarContainer object of 84 artists>"
      ]
     },
     "execution_count": 147,
     "metadata": {},
     "output_type": "execute_result"
    },
    {
     "data": {
      "image/png": "[encoded data removed]",
      "text/plain": [
       "<Figure size 432x288 with 1 Axes>"
      ]
     },
     "metadata": {
      "needs_background": "light"
     },
     "output_type": "display_data"
    }
   ],
   "source": [
    "nonintent_demog_avg = nonintent_demog_total/received_demog_total\n",
    "\n",
    "plt.bar(nonintent_demog_avg['M'].keys(),nonintent_demog_avg['M'].values)\n",
    "plt.bar(nonintent_demog_avg['F'].keys(),nonintent_demog_avg['F'].values,bottom=nonintent_demog_avg['M'].values)\n",
    "plt.bar(nonintent_demog_avg['O'].keys(),nonintent_demog_avg['O'].values,bottom=nonintent_demog_avg['M'].values+nonintent_demog_avg['F'].values)\n"
   ]
  },
  {
   "cell_type": "code",
   "execution_count": 149,
   "metadata": {
    "scrolled": true
   },
   "outputs": [
    {
     "data": {
      "image/png": "[encoded data removed]",
      "text/plain": [
       "<Figure size 2160x2160 with 24 Axes>"
      ]
     },
     "metadata": {
      "needs_background": "light"
     },
     "output_type": "display_data"
    }
   ],
   "source": [
    "nonintent_demog_total_by_offer = nonintentional_completes_df.groupby(by=['user_gender','user_age','offer_id'])['user_id'].nunique().unstack()\n",
    "received_demog_total_by_offer = transcript_received.merge(profile_clean,on=['user_id'],how='left').groupby(\n",
    "    by=['user_gender','user_age','offer_id'])['user_id'].nunique().unstack()\n",
    "\n",
    "i=0\n",
    "plt.figure(figsize=(30,30))\n",
    "for offer in completed_offer_ids:\n",
    "    i = i+1\n",
    "    ax = plt.subplot(plt.subplot(8, 3, i))\n",
    "    plt.ylim(0,1)\n",
    "    temp = nonintent_demog_total_by_offer[offer].transpose()/received_demog_total_by_offer[offer].transpose()\n",
    "    ax=plt.bar(temp['M'].keys(),temp['M'].values)\n",
    "    i = i+1\n",
    "    ax = plt.subplot(plt.subplot(8, 3, i))\n",
    "    plt.ylim(0,1)\n",
    "    ax=plt.bar(temp['F'].keys(),temp['F'].values)\n",
    "    i = i+1\n",
    "    ax = plt.subplot(plt.subplot(8, 3, i))\n",
    "    plt.ylim(0,1)\n",
    "    ax=plt.bar(temp['O'].keys(),temp['O'].values)\n",
    "    "
   ]
  },
  {
   "cell_type": "code",
   "execution_count": 152,
   "metadata": {},
   "outputs": [
    {
     "data": {
      "image/png": "[encoded data removed]",
      "text/plain": [
       "<Figure size 2160x2160 with 6 Axes>"
      ]
     },
     "metadata": {
      "needs_background": "light"
     },
     "output_type": "display_data"
    }
   ],
   "source": [
    "nonintent_demog_total_by_type = nonintentional_completes_df.groupby(by=['user_gender','user_age','offer_type'])['user_id'].nunique().unstack()\n",
    "received_demog_total_by_type = transcript_received.merge(profile_clean,on=['user_id'],how='left').merge(\n",
    "    portfolio_clean,on=['offer_id'],how='left').groupby(\n",
    "    by=['user_gender','user_age','offer_type'])['user_id'].nunique().unstack()\n",
    "\n",
    "i=0\n",
    "plt.figure(figsize=(30,30))\n",
    "for offer in completed_offer_types:\n",
    "    i = i+1\n",
    "    ax = plt.subplot(plt.subplot(2, 3, i))\n",
    "    temp = nonintent_demog_total_by_type[offer].transpose()/received_demog_total_by_type[offer].transpose()\n",
    "    ax=plt.bar(temp['M'].keys(),temp['M'].values)\n",
    "    i = i+1\n",
    "    ax = plt.subplot(plt.subplot(2, 3, i))\n",
    "    ax=plt.bar(temp['F'].keys(),temp['F'].values)\n",
    "    i = i+1\n",
    "    ax = plt.subplot(plt.subplot(2, 3, i))\n",
    "    ax=plt.bar(temp['O'].keys(),temp['O'].values)"
   ]
  },
  {
   "cell_type": "code",
   "execution_count": 150,
   "metadata": {
    "scrolled": true
   },
   "outputs": [
    {
     "name": "stdout",
     "output_type": "stream",
     "text": [
      "offer id:  2906b810c7d4411798c6938adc9daaa5 \n",
      " Average Male Intentional Completers:  0.31044939918552705 \n",
      " Average Female Intentional Completers:  0.3922071037132418 \n",
      " Average Other Intentional Completers:  0.5681818181818182 \n",
      "\n",
      "offer id:  fafdcd668e3743c1bb461111dcafc2a4 \n",
      " Average Male Intentional Completers:  0.12083607535035784 \n",
      " Average Female Intentional Completers:  0.1453701176337037 \n",
      " Average Other Intentional Completers:  0.4666666666666666 \n",
      "\n",
      "offer id:  9b98b8c7a33c4b65b9aebfe6a799e6d9 \n",
      " Average Male Intentional Completers:  0.322448895636417 \n",
      " Average Female Intentional Completers:  0.4334870702782378 \n",
      " Average Other Intentional Completers:  0.646218487394958 \n",
      "\n",
      "offer id:  ae264e3637204a6fb9bb56bc8210ddfd \n",
      " Average Male Intentional Completers:  0.14547926734114025 \n",
      " Average Female Intentional Completers:  0.23227457077909214 \n",
      " Average Other Intentional Completers:  0.6011904761904762 \n",
      "\n",
      "offer id:  4d5c57ea9a6940dd891ad53e9dbe8da0 \n",
      " Average Male Intentional Completers:  0.10356847083906465 \n",
      " Average Female Intentional Completers:  0.14256540104694754 \n",
      " Average Other Intentional Completers:  0.75 \n",
      "\n",
      "offer id:  2298d6c36e964ae4a3e7e9706d1fb8c2 \n",
      " Average Male Intentional Completers:  0.1408026481372602 \n",
      " Average Female Intentional Completers:  0.186953066009921 \n",
      " Average Other Intentional Completers:  0.48958333333333326 \n",
      "\n",
      "offer id:  f19421c1d4aa40978ebb69ca19b0e20d \n",
      " Average Male Intentional Completers:  0.12587774007397706 \n",
      " Average Female Intentional Completers:  0.16333550525253682 \n",
      " Average Other Intentional Completers:  1.0 \n",
      "\n",
      "offer id:  0b1e1539f2cc45b7b9fa7c272da2e1d7 \n",
      " Average Male Intentional Completers:  0.2820223558851953 \n",
      " Average Female Intentional Completers:  0.4096392921559147 \n",
      " Average Other Intentional Completers:  0.6666666666666665 \n",
      "\n"
     ]
    }
   ],
   "source": [
    "nonintent_demog_total_by_offer = nonintentional_completes_df.groupby(by=['user_gender','user_age','offer_id'])['user_id'].nunique().unstack()\n",
    "received_demog_total_by_offer = transcript_received.merge(profile_clean,on=['user_id'],how='left').groupby(\n",
    "    by=['user_gender','user_age','offer_id'])['user_id'].nunique().unstack()\n",
    "\n",
    "i=0\n",
    "for offer in completed_offer_ids:\n",
    "    temp = nonintent_demog_total_by_offer[offer].transpose()/received_demog_total_by_offer[offer].transpose()\n",
    "    print('offer id: ', offer, '\\n' ,\n",
    "          'Average Male Intentional Completers: ', np.nanmean(temp['M'].values),'\\n',\n",
    "          'Average Female Intentional Completers: ',np.nanmean(temp['F'].values),'\\n',\n",
    "          'Average Other Intentional Completers: ',np.nanmean(temp['O'].values),'\\n')"
   ]
  },
  {
   "cell_type": "markdown",
   "metadata": {},
   "source": [
    "## Comments:\n",
    "\n",
    "**1-** Looking at the plots, We can say that female users between ages 38-38 has a significant low nontinetnional completing members per offers received.\n",
    "\n",
    "**2-** A similar behaviour can be concluded for male customers between ages 40-50.\n",
    "\n",
    "**3-** Nonintentional offer completing number of users increase after age 50 for males.\n",
    "\n",
    "**4-** Similar amounts of male customers make nonintentional completes for both offer types whereas more female customers make nonintentional completes on especially discount offers. "
   ]
  },
  {
   "cell_type": "markdown",
   "metadata": {},
   "source": [
    "## What is the effect of income levels on offer completes?"
   ]
  },
  {
   "cell_type": "code",
   "execution_count": null,
   "metadata": {},
   "outputs": [],
   "source": []
  },
  {
   "cell_type": "code",
   "execution_count": null,
   "metadata": {},
   "outputs": [],
   "source": []
  },
  {
   "cell_type": "code",
   "execution_count": null,
   "metadata": {},
   "outputs": [],
   "source": []
  },
  {
   "cell_type": "code",
   "execution_count": null,
   "metadata": {},
   "outputs": [],
   "source": []
  },
  {
   "cell_type": "code",
   "execution_count": null,
   "metadata": {},
   "outputs": [],
   "source": []
  },
  {
   "cell_type": "markdown",
   "metadata": {},
   "source": [
    "## ML WORK"
   ]
  },
  {
   "cell_type": "code",
   "execution_count": null,
   "metadata": {},
   "outputs": [],
   "source": [
    "intentional_completes_df[['offer_id','user_age','user_gender','offer_difficulty',\n",
    "                          'duration','offer_reward','offer_type_bogo',\n",
    "                          'offer_type_discount','offer_type_informational']]"
   ]
  },
  {
   "cell_type": "code",
   "execution_count": 60,
   "metadata": {},
   "outputs": [],
   "source": [
    "transcript_received_ml=transcript_received.copy().drop(columns='end_time',axis=1).reset_index()\n",
    "transcript_received_ml['complete'] = 0\n",
    "transcript_received_ml['complete'] =  transcript_received_ml.merge(\n",
    "    intentional_completes_df,on=['offer_id','user_id','start_time'],how='left')['user_age'].apply(\n",
    "    lambda x: 1 if x>0.0 else 0 )"
   ]
  },
  {
   "cell_type": "code",
   "execution_count": 61,
   "metadata": {},
   "outputs": [],
   "source": [
    "transcript_received_ml= transcript_received_ml.merge(profile_clean,on=['user_id'],how='inner').merge(\n",
    "    portfolio_clean,on=['offer_id'],how='inner')\n",
    "transcript_received_ml = transcript_received_ml[['offer_id','user_age','user_gender','offer_difficulty',\n",
    "                          'duration','offer_reward','offer_type_bogo',\n",
    "                          'offer_type_discount','offer_type_informational','complete']]"
   ]
  },
  {
   "cell_type": "code",
   "execution_count": null,
   "metadata": {},
   "outputs": [],
   "source": [
    "transcript_received_ml.join(pd.get_dummies(transcript_received_ml[['offer_id','user_gender']])).drop(columns=['offer_id','user_gender'],axis=1)"
   ]
  },
  {
   "cell_type": "code",
   "execution_count": null,
   "metadata": {},
   "outputs": [],
   "source": []
  }
 ],
 "metadata": {
  "kernelspec": {
   "display_name": "Python 3",
   "language": "python",
   "name": "python3"
  },
  "language_info": {
   "codemirror_mode": {
    "name": "ipython",
    "version": 3
   },
   "file_extension": ".py",
   "mimetype": "text/x-python",
   "name": "python",
   "nbconvert_exporter": "python",
   "pygments_lexer": "ipython3",
   "version": "3.6.8"
  }
 },
 "nbformat": 4,
 "nbformat_minor": 2
}
